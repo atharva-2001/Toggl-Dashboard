{
 "metadata": {
  "language_info": {
   "codemirror_mode": {
    "name": "ipython",
    "version": 3
   },
   "file_extension": ".py",
   "mimetype": "text/x-python",
   "name": "python",
   "nbconvert_exporter": "python",
   "pygments_lexer": "ipython3",
   "version": "3.8.5-final"
  },
  "orig_nbformat": 2,
  "kernelspec": {
   "name": "Python 3.8.5 64-bit ('base': conda)",
   "display_name": "Python 3.8.5 64-bit ('base': conda)",
   "metadata": {
    "interpreter": {
     "hash": "e43f0cfcd53bd20311f711fa39fe6831caf51b8c32822332e036e857e8784da7"
    }
   }
  }
 },
 "nbformat": 4,
 "nbformat_minor": 2,
 "cells": [
  {
   "cell_type": "code",
   "execution_count": 2,
   "metadata": {},
   "outputs": [],
   "source": [
    "import pandas as pd\n",
    "import json\n",
    "import requests\n",
    "import numpy as np\n",
    "\n",
    "import datetime\n",
    "from collections import defaultdict\n"
   ]
  },
  {
   "cell_type": "code",
   "execution_count": null,
   "metadata": {},
   "outputs": [],
   "source": []
  },
  {
   "source": [
    "## the detailed api"
   ],
   "cell_type": "markdown",
   "metadata": {}
  },
  {
   "cell_type": "code",
   "execution_count": 13,
   "metadata": {},
   "outputs": [
    {
     "output_type": "execute_result",
     "data": {
      "text/plain": [
       "      description                      start                        end  \\\n",
       "0  ED Assignment   2020-10-01T21:00:00+05:30  2020-10-01T22:00:00+05:30   \n",
       "1     Hands on ML  2020-10-01T16:00:00+05:30  2020-10-01T18:00:00+05:30   \n",
       "2     Hands on ML  2020-10-01T13:40:00+05:30  2020-10-01T14:40:00+05:30   \n",
       "3     Hands on ML  2020-10-01T09:55:00+05:30  2020-10-01T11:55:00+05:30   \n",
       "\n",
       "                     updated      dur            project project_hex_color  \n",
       "0  2020-10-01T22:08:44+05:30  3600000       College Work           #525266  \n",
       "1  2020-10-01T20:33:23+05:30  7200000  Books and Courses           #d92b2b  \n",
       "2  2020-10-01T14:59:40+05:30  3600000  Books and Courses           #d92b2b  \n",
       "3  2020-10-01T13:21:48+05:30  7200000  Books and Courses           #d92b2b  "
      ],
      "text/html": "<div>\n<style scoped>\n    .dataframe tbody tr th:only-of-type {\n        vertical-align: middle;\n    }\n\n    .dataframe tbody tr th {\n        vertical-align: top;\n    }\n\n    .dataframe thead th {\n        text-align: right;\n    }\n</style>\n<table border=\"1\" class=\"dataframe\">\n  <thead>\n    <tr style=\"text-align: right;\">\n      <th></th>\n      <th>description</th>\n      <th>start</th>\n      <th>end</th>\n      <th>updated</th>\n      <th>dur</th>\n      <th>project</th>\n      <th>project_hex_color</th>\n    </tr>\n  </thead>\n  <tbody>\n    <tr>\n      <th>0</th>\n      <td>ED Assignment</td>\n      <td>2020-10-01T21:00:00+05:30</td>\n      <td>2020-10-01T22:00:00+05:30</td>\n      <td>2020-10-01T22:08:44+05:30</td>\n      <td>3600000</td>\n      <td>College Work</td>\n      <td>#525266</td>\n    </tr>\n    <tr>\n      <th>1</th>\n      <td>Hands on ML</td>\n      <td>2020-10-01T16:00:00+05:30</td>\n      <td>2020-10-01T18:00:00+05:30</td>\n      <td>2020-10-01T20:33:23+05:30</td>\n      <td>7200000</td>\n      <td>Books and Courses</td>\n      <td>#d92b2b</td>\n    </tr>\n    <tr>\n      <th>2</th>\n      <td>Hands on ML</td>\n      <td>2020-10-01T13:40:00+05:30</td>\n      <td>2020-10-01T14:40:00+05:30</td>\n      <td>2020-10-01T14:59:40+05:30</td>\n      <td>3600000</td>\n      <td>Books and Courses</td>\n      <td>#d92b2b</td>\n    </tr>\n    <tr>\n      <th>3</th>\n      <td>Hands on ML</td>\n      <td>2020-10-01T09:55:00+05:30</td>\n      <td>2020-10-01T11:55:00+05:30</td>\n      <td>2020-10-01T13:21:48+05:30</td>\n      <td>7200000</td>\n      <td>Books and Courses</td>\n      <td>#d92b2b</td>\n    </tr>\n  </tbody>\n</table>\n</div>"
     },
     "metadata": {},
     "execution_count": 13
    }
   ],
   "source": [
    "URL = 'https://api.track.toggl.com/reports/api/v2/details?workspace_id=4482767&since=2020-08-1&until=2020-10-1&user_agent=email'\n",
    "username = None\n",
    "password = 'api_token'\n",
    "\n",
    "cols = [\n",
    "#  'id',\n",
    "#  'pid',\n",
    "#  'tid',\n",
    "#  'uid',\n",
    " 'description',\n",
    " 'start',\n",
    " 'end',\n",
    " 'updated',\n",
    " 'dur',\n",
    "#  'user',\n",
    "#  'use_stop',\n",
    "#  'client',\n",
    " 'project',\n",
    "#  'project_color',\n",
    " 'project_hex_color'\n",
    "#  'task',\n",
    "#  'billable',\n",
    "#  'is_billable',\n",
    "#  'cur',\n",
    "#  'tags'\n",
    "]\n",
    "\n",
    "\n",
    "df_raw = defaultdict(list)\n",
    "ind = 1\n",
    "data = []\n",
    "data_in = [0]\n",
    "while len(data_in) != 0:\n",
    "    URL = URL + '&page=' + str(ind)\n",
    "    response = requests.get(URL, auth = (username, password)).json()\n",
    "    data_in = response['data']\n",
    "    data += data_in\n",
    "    for col in cols:\n",
    "        for item in data_in:\n",
    "            df_raw[col].append(item[col])\n",
    "    ind += 1\n",
    "df = pd.DataFrame.from_dict(df_raw)\n",
    "df.head(4)"
   ]
  },
  {
   "cell_type": "code",
   "execution_count": 14,
   "metadata": {},
   "outputs": [
    {
     "output_type": "execute_result",
     "data": {
      "text/plain": [
       "'2020-10-01T21:00:00+05:30'"
      ]
     },
     "metadata": {},
     "execution_count": 14
    }
   ],
   "source": [
    "df['start'].tolist()[0]"
   ]
  },
  {
   "cell_type": "code",
   "execution_count": 15,
   "metadata": {},
   "outputs": [],
   "source": [
    "def get_processed_df(df):\n",
    "    df['start'] = df['start'].apply(lambda x: datetime.datetime.strptime(x.split(\"+\")[0], '%Y-%m-%dT%H:%M:%S'))\n",
    "    df['end'] = df['end'].apply(lambda x: datetime.datetime.strptime(x.split(\"+\")[0], '%Y-%m-%dT%H:%M:%S'))\n",
    "    df['updated'] = df['updated'].apply(lambda x: datetime.datetime.strptime(x.split(\"+\")[0], '%Y-%m-%dT%H:%M:%S'))\n",
    "    df['start_day'] = df['start'].apply(lambda x: x.date())\n",
    "    df['end_day'] = df['end'].apply(lambda x: x.date())\n",
    "\n",
    "    df_daily_raw = defaultdict(list)\n",
    "\n",
    "    rows = []\n",
    "\n",
    "    for index, row in df.iterrows():\n",
    "        # if end and start day is equal\n",
    "        if row['start_day'] != row['end_day']:\n",
    "            row1, row2 = row.to_dict(), row.to_dict()\n",
    "            start = row['start']\n",
    "            end = row['end']\n",
    "\n",
    "            end_day = row['end_day']\n",
    "\n",
    "            mid =  (datetime.datetime.combine(row['end_day'], datetime.datetime.min.time()))\n",
    "\n",
    "            dur1 = (mid - start).seconds * 1000\n",
    "            dur2 = (end - mid).seconds * 1000\n",
    "            print(dur1, dur2)\n",
    "            \n",
    "            row1['dur'] = dur1\n",
    "            row2['dur'] = dur2\n",
    "\n",
    "            row1['end'] = pd.Timestamp((datetime.datetime.combine(row['start_day'], datetime.datetime.max.time())))\n",
    "            row2['start'] = pd.Timestamp(mid)\n",
    "\n",
    "            # row1['start_day'] = row['start_day']\n",
    "            row1['end_day'] = row1['end'].date()\n",
    "            row2['start_day'] = mid.date()\n",
    "            rows.append([index, row1, row2])\n",
    "    print(df.columns)\n",
    "    for item in rows:\n",
    "        tmp = pd.DataFrame(np.insert(df.values, item[0],values = list(item[1].values()), axis = 0 ))\n",
    "        tmp = pd.DataFrame(np.insert(tmp.values, item[0]+1,values = list(item[2].values()), axis = 0 ))\n",
    "        tmp.drop(item[0] + 2, inplace = True)\n",
    "    tmp.columns = df.columns\n",
    "    return df, tmp"
   ]
  },
  {
   "cell_type": "code",
   "execution_count": 16,
   "metadata": {
    "tags": []
   },
   "outputs": [
    {
     "output_type": "stream",
     "name": "stdout",
     "text": [
      "3882000 52000\nIndex(['description', 'start', 'end', 'updated', 'dur', 'project',\n       'project_hex_color', 'start_day', 'end_day'],\n      dtype='object')\n"
     ]
    },
    {
     "output_type": "execute_result",
     "data": {
      "text/plain": [
       "      description               start                 end             updated  \\\n",
       "0  ED Assignment  2020-10-01 21:00:00 2020-10-01 22:00:00 2020-10-01 22:08:44   \n",
       "1     Hands on ML 2020-10-01 16:00:00 2020-10-01 18:00:00 2020-10-01 20:33:23   \n",
       "2     Hands on ML 2020-10-01 13:40:00 2020-10-01 14:40:00 2020-10-01 14:59:40   \n",
       "3     Hands on ML 2020-10-01 09:55:00 2020-10-01 11:55:00 2020-10-01 13:21:48   \n",
       "4     Hands on ML 2020-09-30 20:55:00 2020-09-30 22:10:00 2020-10-01 01:17:55   \n",
       "\n",
       "       dur            project project_hex_color   start_day     end_day  \n",
       "0  3600000       College Work           #525266  2020-10-01  2020-10-01  \n",
       "1  7200000  Books and Courses           #d92b2b  2020-10-01  2020-10-01  \n",
       "2  3600000  Books and Courses           #d92b2b  2020-10-01  2020-10-01  \n",
       "3  7200000  Books and Courses           #d92b2b  2020-10-01  2020-10-01  \n",
       "4  4500000  Books and Courses           #d92b2b  2020-09-30  2020-09-30  "
      ],
      "text/html": "<div>\n<style scoped>\n    .dataframe tbody tr th:only-of-type {\n        vertical-align: middle;\n    }\n\n    .dataframe tbody tr th {\n        vertical-align: top;\n    }\n\n    .dataframe thead th {\n        text-align: right;\n    }\n</style>\n<table border=\"1\" class=\"dataframe\">\n  <thead>\n    <tr style=\"text-align: right;\">\n      <th></th>\n      <th>description</th>\n      <th>start</th>\n      <th>end</th>\n      <th>updated</th>\n      <th>dur</th>\n      <th>project</th>\n      <th>project_hex_color</th>\n      <th>start_day</th>\n      <th>end_day</th>\n    </tr>\n  </thead>\n  <tbody>\n    <tr>\n      <th>0</th>\n      <td>ED Assignment</td>\n      <td>2020-10-01 21:00:00</td>\n      <td>2020-10-01 22:00:00</td>\n      <td>2020-10-01 22:08:44</td>\n      <td>3600000</td>\n      <td>College Work</td>\n      <td>#525266</td>\n      <td>2020-10-01</td>\n      <td>2020-10-01</td>\n    </tr>\n    <tr>\n      <th>1</th>\n      <td>Hands on ML</td>\n      <td>2020-10-01 16:00:00</td>\n      <td>2020-10-01 18:00:00</td>\n      <td>2020-10-01 20:33:23</td>\n      <td>7200000</td>\n      <td>Books and Courses</td>\n      <td>#d92b2b</td>\n      <td>2020-10-01</td>\n      <td>2020-10-01</td>\n    </tr>\n    <tr>\n      <th>2</th>\n      <td>Hands on ML</td>\n      <td>2020-10-01 13:40:00</td>\n      <td>2020-10-01 14:40:00</td>\n      <td>2020-10-01 14:59:40</td>\n      <td>3600000</td>\n      <td>Books and Courses</td>\n      <td>#d92b2b</td>\n      <td>2020-10-01</td>\n      <td>2020-10-01</td>\n    </tr>\n    <tr>\n      <th>3</th>\n      <td>Hands on ML</td>\n      <td>2020-10-01 09:55:00</td>\n      <td>2020-10-01 11:55:00</td>\n      <td>2020-10-01 13:21:48</td>\n      <td>7200000</td>\n      <td>Books and Courses</td>\n      <td>#d92b2b</td>\n      <td>2020-10-01</td>\n      <td>2020-10-01</td>\n    </tr>\n    <tr>\n      <th>4</th>\n      <td>Hands on ML</td>\n      <td>2020-09-30 20:55:00</td>\n      <td>2020-09-30 22:10:00</td>\n      <td>2020-10-01 01:17:55</td>\n      <td>4500000</td>\n      <td>Books and Courses</td>\n      <td>#d92b2b</td>\n      <td>2020-09-30</td>\n      <td>2020-09-30</td>\n    </tr>\n  </tbody>\n</table>\n</div>"
     },
     "metadata": {},
     "execution_count": 16
    }
   ],
   "source": [
    "return_df, tmp = get_processed_df(df)\n",
    "return_df.head()"
   ]
  },
  {
   "cell_type": "code",
   "execution_count": 246,
   "metadata": {},
   "outputs": [],
   "source": [
    "def get_daily_work(df):\n",
    "    '''\n",
    "    df should be processed \n",
    "    '''\n",
    "    net_work = dict()\n",
    "    for index, row in df.iterrows():\n",
    "        day = row['end_day'] # doesnt matter, both days are equal\n",
    "        tmp_df = df[df['end_day'] == day]\n",
    "        net_work[day]  =round(sum(tmp_df['dur'].tolist())/3600000, 2) # in hrs \n",
    "    \n",
    "    # tmp = get_daily_work(return_df)\n",
    "    tmp = pd.DataFrame.from_dict({\n",
    "        'day': list(net_work.keys()),\n",
    "        'work done': list(net_work.values())\n",
    "    })\n",
    "        # print(tmp_df)\n",
    "    return tmp"
   ]
  },
  {
   "cell_type": "code",
   "execution_count": 248,
   "metadata": {
    "tags": []
   },
   "outputs": [
    {
     "output_type": "execute_result",
     "data": {
      "text/plain": "          day  work done\n0  2020-10-01       6.00\n1  2020-09-30       5.33\n2  2020-09-29       6.92\n3  2020-09-28       5.32\n4  2020-09-27       6.00",
      "text/html": "<div>\n<style scoped>\n    .dataframe tbody tr th:only-of-type {\n        vertical-align: middle;\n    }\n\n    .dataframe tbody tr th {\n        vertical-align: top;\n    }\n\n    .dataframe thead th {\n        text-align: right;\n    }\n</style>\n<table border=\"1\" class=\"dataframe\">\n  <thead>\n    <tr style=\"text-align: right;\">\n      <th></th>\n      <th>day</th>\n      <th>work done</th>\n    </tr>\n  </thead>\n  <tbody>\n    <tr>\n      <th>0</th>\n      <td>2020-10-01</td>\n      <td>6.00</td>\n    </tr>\n    <tr>\n      <th>1</th>\n      <td>2020-09-30</td>\n      <td>5.33</td>\n    </tr>\n    <tr>\n      <th>2</th>\n      <td>2020-09-29</td>\n      <td>6.92</td>\n    </tr>\n    <tr>\n      <th>3</th>\n      <td>2020-09-28</td>\n      <td>5.32</td>\n    </tr>\n    <tr>\n      <th>4</th>\n      <td>2020-09-27</td>\n      <td>6.00</td>\n    </tr>\n  </tbody>\n</table>\n</div>"
     },
     "metadata": {},
     "execution_count": 248
    }
   ],
   "source": [
    "tmp = get_daily_work(return_df)\n",
    "# tmp = pd.DataFrame.from_dict({\n",
    "#     'day': list(tmp.keys()),\n",
    "#     'work done': list(tmp.values())\n",
    "# })\n",
    "tmp.head()"
   ]
  },
  {
   "cell_type": "code",
   "execution_count": 249,
   "metadata": {},
   "outputs": [
    {
     "output_type": "display_data",
     "data": {
      "application/vnd.plotly.v1+json": {
       "config": {
        "plotlyServerURL": "https://plot.ly"
       },
       "data": [
        {
         "alignmentgroup": "True",
         "hovertemplate": "day=%{x}<br>work done=%{y}<extra></extra>",
         "legendgroup": "",
         "marker": {
          "color": "#636efa"
         },
         "name": "",
         "offsetgroup": "",
         "orientation": "v",
         "showlegend": false,
         "textposition": "auto",
         "type": "bar",
         "x": [
          "2020-10-01",
          "2020-09-30",
          "2020-09-29",
          "2020-09-28",
          "2020-09-27",
          "2020-09-26",
          "2020-09-24",
          "2020-09-23",
          "2020-09-22",
          "2020-09-21",
          "2020-09-20",
          "2020-09-19",
          "2020-09-18",
          "2020-09-17",
          "2020-09-16",
          "2020-09-15",
          "2020-09-14",
          "2020-09-12",
          "2020-09-11",
          "2020-09-10",
          "2020-09-09",
          "2020-09-08",
          "2020-09-07",
          "2020-09-06",
          "2020-09-05",
          "2020-09-04",
          "2020-09-03",
          "2020-09-02",
          "2020-09-01",
          "2020-08-31",
          "2020-08-30",
          "2020-08-29",
          "2020-08-28",
          "2020-08-27",
          "2020-08-26",
          "2020-08-25",
          "2020-08-24",
          "2020-08-23",
          "2020-08-22",
          "2020-08-21",
          "2020-08-20",
          "2020-08-19",
          "2020-08-18",
          "2020-08-17",
          "2020-08-16",
          "2020-08-14",
          "2020-08-13",
          "2020-08-12",
          "2020-08-11",
          "2020-08-10",
          "2020-08-07",
          "2020-08-06"
         ],
         "xaxis": "x",
         "y": [
          6,
          5.33,
          6.92,
          5.32,
          6,
          7.21,
          1.76,
          2.99,
          1.93,
          2,
          1.26,
          6.01,
          10.53,
          2.9,
          5.82,
          5.91,
          5.18,
          6.92,
          6.32,
          7.33,
          6.08,
          4.58,
          4.58,
          7.67,
          4.76,
          5.96,
          6.12,
          4.07,
          1.25,
          4.66,
          3.04,
          0.17,
          3.72,
          6.62,
          5.47,
          5.51,
          6.53,
          2.19,
          3.01,
          2.38,
          2.24,
          2.16,
          2.56,
          5.34,
          1.42,
          3.44,
          2.2,
          2.38,
          4.44,
          2.4,
          0.42,
          0.76
         ],
         "yaxis": "y"
        }
       ],
       "layout": {
        "barmode": "relative",
        "legend": {
         "tracegroupgap": 0
        },
        "margin": {
         "t": 60
        },
        "template": {
         "data": {
          "bar": [
           {
            "error_x": {
             "color": "#2a3f5f"
            },
            "error_y": {
             "color": "#2a3f5f"
            },
            "marker": {
             "line": {
              "color": "#E5ECF6",
              "width": 0.5
             }
            },
            "type": "bar"
           }
          ],
          "barpolar": [
           {
            "marker": {
             "line": {
              "color": "#E5ECF6",
              "width": 0.5
             }
            },
            "type": "barpolar"
           }
          ],
          "carpet": [
           {
            "aaxis": {
             "endlinecolor": "#2a3f5f",
             "gridcolor": "white",
             "linecolor": "white",
             "minorgridcolor": "white",
             "startlinecolor": "#2a3f5f"
            },
            "baxis": {
             "endlinecolor": "#2a3f5f",
             "gridcolor": "white",
             "linecolor": "white",
             "minorgridcolor": "white",
             "startlinecolor": "#2a3f5f"
            },
            "type": "carpet"
           }
          ],
          "choropleth": [
           {
            "colorbar": {
             "outlinewidth": 0,
             "ticks": ""
            },
            "type": "choropleth"
           }
          ],
          "contour": [
           {
            "colorbar": {
             "outlinewidth": 0,
             "ticks": ""
            },
            "colorscale": [
             [
              0,
              "#0d0887"
             ],
             [
              0.1111111111111111,
              "#46039f"
             ],
             [
              0.2222222222222222,
              "#7201a8"
             ],
             [
              0.3333333333333333,
              "#9c179e"
             ],
             [
              0.4444444444444444,
              "#bd3786"
             ],
             [
              0.5555555555555556,
              "#d8576b"
             ],
             [
              0.6666666666666666,
              "#ed7953"
             ],
             [
              0.7777777777777778,
              "#fb9f3a"
             ],
             [
              0.8888888888888888,
              "#fdca26"
             ],
             [
              1,
              "#f0f921"
             ]
            ],
            "type": "contour"
           }
          ],
          "contourcarpet": [
           {
            "colorbar": {
             "outlinewidth": 0,
             "ticks": ""
            },
            "type": "contourcarpet"
           }
          ],
          "heatmap": [
           {
            "colorbar": {
             "outlinewidth": 0,
             "ticks": ""
            },
            "colorscale": [
             [
              0,
              "#0d0887"
             ],
             [
              0.1111111111111111,
              "#46039f"
             ],
             [
              0.2222222222222222,
              "#7201a8"
             ],
             [
              0.3333333333333333,
              "#9c179e"
             ],
             [
              0.4444444444444444,
              "#bd3786"
             ],
             [
              0.5555555555555556,
              "#d8576b"
             ],
             [
              0.6666666666666666,
              "#ed7953"
             ],
             [
              0.7777777777777778,
              "#fb9f3a"
             ],
             [
              0.8888888888888888,
              "#fdca26"
             ],
             [
              1,
              "#f0f921"
             ]
            ],
            "type": "heatmap"
           }
          ],
          "heatmapgl": [
           {
            "colorbar": {
             "outlinewidth": 0,
             "ticks": ""
            },
            "colorscale": [
             [
              0,
              "#0d0887"
             ],
             [
              0.1111111111111111,
              "#46039f"
             ],
             [
              0.2222222222222222,
              "#7201a8"
             ],
             [
              0.3333333333333333,
              "#9c179e"
             ],
             [
              0.4444444444444444,
              "#bd3786"
             ],
             [
              0.5555555555555556,
              "#d8576b"
             ],
             [
              0.6666666666666666,
              "#ed7953"
             ],
             [
              0.7777777777777778,
              "#fb9f3a"
             ],
             [
              0.8888888888888888,
              "#fdca26"
             ],
             [
              1,
              "#f0f921"
             ]
            ],
            "type": "heatmapgl"
           }
          ],
          "histogram": [
           {
            "marker": {
             "colorbar": {
              "outlinewidth": 0,
              "ticks": ""
             }
            },
            "type": "histogram"
           }
          ],
          "histogram2d": [
           {
            "colorbar": {
             "outlinewidth": 0,
             "ticks": ""
            },
            "colorscale": [
             [
              0,
              "#0d0887"
             ],
             [
              0.1111111111111111,
              "#46039f"
             ],
             [
              0.2222222222222222,
              "#7201a8"
             ],
             [
              0.3333333333333333,
              "#9c179e"
             ],
             [
              0.4444444444444444,
              "#bd3786"
             ],
             [
              0.5555555555555556,
              "#d8576b"
             ],
             [
              0.6666666666666666,
              "#ed7953"
             ],
             [
              0.7777777777777778,
              "#fb9f3a"
             ],
             [
              0.8888888888888888,
              "#fdca26"
             ],
             [
              1,
              "#f0f921"
             ]
            ],
            "type": "histogram2d"
           }
          ],
          "histogram2dcontour": [
           {
            "colorbar": {
             "outlinewidth": 0,
             "ticks": ""
            },
            "colorscale": [
             [
              0,
              "#0d0887"
             ],
             [
              0.1111111111111111,
              "#46039f"
             ],
             [
              0.2222222222222222,
              "#7201a8"
             ],
             [
              0.3333333333333333,
              "#9c179e"
             ],
             [
              0.4444444444444444,
              "#bd3786"
             ],
             [
              0.5555555555555556,
              "#d8576b"
             ],
             [
              0.6666666666666666,
              "#ed7953"
             ],
             [
              0.7777777777777778,
              "#fb9f3a"
             ],
             [
              0.8888888888888888,
              "#fdca26"
             ],
             [
              1,
              "#f0f921"
             ]
            ],
            "type": "histogram2dcontour"
           }
          ],
          "mesh3d": [
           {
            "colorbar": {
             "outlinewidth": 0,
             "ticks": ""
            },
            "type": "mesh3d"
           }
          ],
          "parcoords": [
           {
            "line": {
             "colorbar": {
              "outlinewidth": 0,
              "ticks": ""
             }
            },
            "type": "parcoords"
           }
          ],
          "pie": [
           {
            "automargin": true,
            "type": "pie"
           }
          ],
          "scatter": [
           {
            "marker": {
             "colorbar": {
              "outlinewidth": 0,
              "ticks": ""
             }
            },
            "type": "scatter"
           }
          ],
          "scatter3d": [
           {
            "line": {
             "colorbar": {
              "outlinewidth": 0,
              "ticks": ""
             }
            },
            "marker": {
             "colorbar": {
              "outlinewidth": 0,
              "ticks": ""
             }
            },
            "type": "scatter3d"
           }
          ],
          "scattercarpet": [
           {
            "marker": {
             "colorbar": {
              "outlinewidth": 0,
              "ticks": ""
             }
            },
            "type": "scattercarpet"
           }
          ],
          "scattergeo": [
           {
            "marker": {
             "colorbar": {
              "outlinewidth": 0,
              "ticks": ""
             }
            },
            "type": "scattergeo"
           }
          ],
          "scattergl": [
           {
            "marker": {
             "colorbar": {
              "outlinewidth": 0,
              "ticks": ""
             }
            },
            "type": "scattergl"
           }
          ],
          "scattermapbox": [
           {
            "marker": {
             "colorbar": {
              "outlinewidth": 0,
              "ticks": ""
             }
            },
            "type": "scattermapbox"
           }
          ],
          "scatterpolar": [
           {
            "marker": {
             "colorbar": {
              "outlinewidth": 0,
              "ticks": ""
             }
            },
            "type": "scatterpolar"
           }
          ],
          "scatterpolargl": [
           {
            "marker": {
             "colorbar": {
              "outlinewidth": 0,
              "ticks": ""
             }
            },
            "type": "scatterpolargl"
           }
          ],
          "scatterternary": [
           {
            "marker": {
             "colorbar": {
              "outlinewidth": 0,
              "ticks": ""
             }
            },
            "type": "scatterternary"
           }
          ],
          "surface": [
           {
            "colorbar": {
             "outlinewidth": 0,
             "ticks": ""
            },
            "colorscale": [
             [
              0,
              "#0d0887"
             ],
             [
              0.1111111111111111,
              "#46039f"
             ],
             [
              0.2222222222222222,
              "#7201a8"
             ],
             [
              0.3333333333333333,
              "#9c179e"
             ],
             [
              0.4444444444444444,
              "#bd3786"
             ],
             [
              0.5555555555555556,
              "#d8576b"
             ],
             [
              0.6666666666666666,
              "#ed7953"
             ],
             [
              0.7777777777777778,
              "#fb9f3a"
             ],
             [
              0.8888888888888888,
              "#fdca26"
             ],
             [
              1,
              "#f0f921"
             ]
            ],
            "type": "surface"
           }
          ],
          "table": [
           {
            "cells": {
             "fill": {
              "color": "#EBF0F8"
             },
             "line": {
              "color": "white"
             }
            },
            "header": {
             "fill": {
              "color": "#C8D4E3"
             },
             "line": {
              "color": "white"
             }
            },
            "type": "table"
           }
          ]
         },
         "layout": {
          "annotationdefaults": {
           "arrowcolor": "#2a3f5f",
           "arrowhead": 0,
           "arrowwidth": 1
          },
          "coloraxis": {
           "colorbar": {
            "outlinewidth": 0,
            "ticks": ""
           }
          },
          "colorscale": {
           "diverging": [
            [
             0,
             "#8e0152"
            ],
            [
             0.1,
             "#c51b7d"
            ],
            [
             0.2,
             "#de77ae"
            ],
            [
             0.3,
             "#f1b6da"
            ],
            [
             0.4,
             "#fde0ef"
            ],
            [
             0.5,
             "#f7f7f7"
            ],
            [
             0.6,
             "#e6f5d0"
            ],
            [
             0.7,
             "#b8e186"
            ],
            [
             0.8,
             "#7fbc41"
            ],
            [
             0.9,
             "#4d9221"
            ],
            [
             1,
             "#276419"
            ]
           ],
           "sequential": [
            [
             0,
             "#0d0887"
            ],
            [
             0.1111111111111111,
             "#46039f"
            ],
            [
             0.2222222222222222,
             "#7201a8"
            ],
            [
             0.3333333333333333,
             "#9c179e"
            ],
            [
             0.4444444444444444,
             "#bd3786"
            ],
            [
             0.5555555555555556,
             "#d8576b"
            ],
            [
             0.6666666666666666,
             "#ed7953"
            ],
            [
             0.7777777777777778,
             "#fb9f3a"
            ],
            [
             0.8888888888888888,
             "#fdca26"
            ],
            [
             1,
             "#f0f921"
            ]
           ],
           "sequentialminus": [
            [
             0,
             "#0d0887"
            ],
            [
             0.1111111111111111,
             "#46039f"
            ],
            [
             0.2222222222222222,
             "#7201a8"
            ],
            [
             0.3333333333333333,
             "#9c179e"
            ],
            [
             0.4444444444444444,
             "#bd3786"
            ],
            [
             0.5555555555555556,
             "#d8576b"
            ],
            [
             0.6666666666666666,
             "#ed7953"
            ],
            [
             0.7777777777777778,
             "#fb9f3a"
            ],
            [
             0.8888888888888888,
             "#fdca26"
            ],
            [
             1,
             "#f0f921"
            ]
           ]
          },
          "colorway": [
           "#636efa",
           "#EF553B",
           "#00cc96",
           "#ab63fa",
           "#FFA15A",
           "#19d3f3",
           "#FF6692",
           "#B6E880",
           "#FF97FF",
           "#FECB52"
          ],
          "font": {
           "color": "#2a3f5f"
          },
          "geo": {
           "bgcolor": "white",
           "lakecolor": "white",
           "landcolor": "#E5ECF6",
           "showlakes": true,
           "showland": true,
           "subunitcolor": "white"
          },
          "hoverlabel": {
           "align": "left"
          },
          "hovermode": "closest",
          "mapbox": {
           "style": "light"
          },
          "paper_bgcolor": "white",
          "plot_bgcolor": "#E5ECF6",
          "polar": {
           "angularaxis": {
            "gridcolor": "white",
            "linecolor": "white",
            "ticks": ""
           },
           "bgcolor": "#E5ECF6",
           "radialaxis": {
            "gridcolor": "white",
            "linecolor": "white",
            "ticks": ""
           }
          },
          "scene": {
           "xaxis": {
            "backgroundcolor": "#E5ECF6",
            "gridcolor": "white",
            "gridwidth": 2,
            "linecolor": "white",
            "showbackground": true,
            "ticks": "",
            "zerolinecolor": "white"
           },
           "yaxis": {
            "backgroundcolor": "#E5ECF6",
            "gridcolor": "white",
            "gridwidth": 2,
            "linecolor": "white",
            "showbackground": true,
            "ticks": "",
            "zerolinecolor": "white"
           },
           "zaxis": {
            "backgroundcolor": "#E5ECF6",
            "gridcolor": "white",
            "gridwidth": 2,
            "linecolor": "white",
            "showbackground": true,
            "ticks": "",
            "zerolinecolor": "white"
           }
          },
          "shapedefaults": {
           "line": {
            "color": "#2a3f5f"
           }
          },
          "ternary": {
           "aaxis": {
            "gridcolor": "white",
            "linecolor": "white",
            "ticks": ""
           },
           "baxis": {
            "gridcolor": "white",
            "linecolor": "white",
            "ticks": ""
           },
           "bgcolor": "#E5ECF6",
           "caxis": {
            "gridcolor": "white",
            "linecolor": "white",
            "ticks": ""
           }
          },
          "title": {
           "x": 0.05
          },
          "xaxis": {
           "automargin": true,
           "gridcolor": "white",
           "linecolor": "white",
           "ticks": "",
           "title": {
            "standoff": 15
           },
           "zerolinecolor": "white",
           "zerolinewidth": 2
          },
          "yaxis": {
           "automargin": true,
           "gridcolor": "white",
           "linecolor": "white",
           "ticks": "",
           "title": {
            "standoff": 15
           },
           "zerolinecolor": "white",
           "zerolinewidth": 2
          }
         }
        },
        "xaxis": {
         "anchor": "y",
         "domain": [
          0,
          1
         ],
         "title": {
          "text": "day"
         }
        },
        "yaxis": {
         "anchor": "x",
         "domain": [
          0,
          1
         ],
         "title": {
          "text": "work done"
         }
        }
       }
      }
     },
     "metadata": {}
    }
   ],
   "source": [
    "import plotly_express as px\n",
    "fig = px.bar(tmp, x =  'day', y = 'work done')\n",
    "fig.show()\n"
   ]
  },
  {
   "cell_type": "code",
   "execution_count": 263,
   "metadata": {},
   "outputs": [
    {
     "output_type": "execute_result",
     "data": {
      "text/plain": "      description               start                 end             updated  \\\n0  ED Assignment  2020-10-01 21:00:00 2020-10-01 22:00:00 2020-10-01 22:08:44   \n1     Hands on ML 2020-10-01 16:00:00 2020-10-01 18:00:00 2020-10-01 20:33:23   \n2     Hands on ML 2020-10-01 13:40:00 2020-10-01 14:40:00 2020-10-01 14:59:40   \n3     Hands on ML 2020-10-01 09:55:00 2020-10-01 11:55:00 2020-10-01 13:21:48   \n4     Hands on ML 2020-09-30 20:55:00 2020-09-30 22:10:00 2020-10-01 01:17:55   \n\n       dur            project project_hex_color   start_day     end_day  \n0  3600000       College Work           #525266  2020-10-01  2020-10-01  \n1  7200000  Books and Courses           #d92b2b  2020-10-01  2020-10-01  \n2  3600000  Books and Courses           #d92b2b  2020-10-01  2020-10-01  \n3  7200000  Books and Courses           #d92b2b  2020-10-01  2020-10-01  \n4  4500000  Books and Courses           #d92b2b  2020-09-30  2020-09-30  ",
      "text/html": "<div>\n<style scoped>\n    .dataframe tbody tr th:only-of-type {\n        vertical-align: middle;\n    }\n\n    .dataframe tbody tr th {\n        vertical-align: top;\n    }\n\n    .dataframe thead th {\n        text-align: right;\n    }\n</style>\n<table border=\"1\" class=\"dataframe\">\n  <thead>\n    <tr style=\"text-align: right;\">\n      <th></th>\n      <th>description</th>\n      <th>start</th>\n      <th>end</th>\n      <th>updated</th>\n      <th>dur</th>\n      <th>project</th>\n      <th>project_hex_color</th>\n      <th>start_day</th>\n      <th>end_day</th>\n    </tr>\n  </thead>\n  <tbody>\n    <tr>\n      <th>0</th>\n      <td>ED Assignment</td>\n      <td>2020-10-01 21:00:00</td>\n      <td>2020-10-01 22:00:00</td>\n      <td>2020-10-01 22:08:44</td>\n      <td>3600000</td>\n      <td>College Work</td>\n      <td>#525266</td>\n      <td>2020-10-01</td>\n      <td>2020-10-01</td>\n    </tr>\n    <tr>\n      <th>1</th>\n      <td>Hands on ML</td>\n      <td>2020-10-01 16:00:00</td>\n      <td>2020-10-01 18:00:00</td>\n      <td>2020-10-01 20:33:23</td>\n      <td>7200000</td>\n      <td>Books and Courses</td>\n      <td>#d92b2b</td>\n      <td>2020-10-01</td>\n      <td>2020-10-01</td>\n    </tr>\n    <tr>\n      <th>2</th>\n      <td>Hands on ML</td>\n      <td>2020-10-01 13:40:00</td>\n      <td>2020-10-01 14:40:00</td>\n      <td>2020-10-01 14:59:40</td>\n      <td>3600000</td>\n      <td>Books and Courses</td>\n      <td>#d92b2b</td>\n      <td>2020-10-01</td>\n      <td>2020-10-01</td>\n    </tr>\n    <tr>\n      <th>3</th>\n      <td>Hands on ML</td>\n      <td>2020-10-01 09:55:00</td>\n      <td>2020-10-01 11:55:00</td>\n      <td>2020-10-01 13:21:48</td>\n      <td>7200000</td>\n      <td>Books and Courses</td>\n      <td>#d92b2b</td>\n      <td>2020-10-01</td>\n      <td>2020-10-01</td>\n    </tr>\n    <tr>\n      <th>4</th>\n      <td>Hands on ML</td>\n      <td>2020-09-30 20:55:00</td>\n      <td>2020-09-30 22:10:00</td>\n      <td>2020-10-01 01:17:55</td>\n      <td>4500000</td>\n      <td>Books and Courses</td>\n      <td>#d92b2b</td>\n      <td>2020-09-30</td>\n      <td>2020-09-30</td>\n    </tr>\n  </tbody>\n</table>\n</div>"
     },
     "metadata": {},
     "execution_count": 263
    }
   ],
   "source": [
    "return_df.head()"
   ]
  },
  {
   "cell_type": "code",
   "execution_count": 316,
   "metadata": {},
   "outputs": [
    {
     "output_type": "execute_result",
     "data": {
      "text/plain": "[&#39;alan&#39;, &#39;bob&#39;, &#39;carl&#39;, &#39;danny&#39;]"
     },
     "metadata": {},
     "execution_count": 316
    }
   ],
   "source": [
    "mydict = {'carl':40,\n",
    "          'alan':2,\n",
    "          'bob':1,\n",
    "          'danny':3}\n",
    "sorted(mydict)"
   ]
  },
  {
   "cell_type": "code",
   "execution_count": 365,
   "metadata": {},
   "outputs": [],
   "source": [
    "import plotly.graph_objects as go\n",
    "from collections import OrderedDict\n",
    "def build_stacked_bar(df):\n",
    "    '''\n",
    "    returns stacked bar chart,\n",
    "    input should be processed\n",
    "    '''\n",
    "\n",
    "    # there have to multiple traces equal to the number of projects\n",
    "    df['project'] = ['Empty Project' if item is None else item for item in df['project'].tolist()]\n",
    "    projects = list(set(df['project'].tolist()))\n",
    "    days = sorted(list(set(df['end_day'].tolist())))\n",
    "    trace_dict = defaultdict(dict)\n",
    "    \n",
    "    for project in projects:\n",
    "        for day in days:\n",
    "            tmp = df[df['project'] == project][df['end_day'] == day]\n",
    "            if len(tmp) == 0: # no work done on that project on that day\n",
    "                trace_dict[project][day] = 0\n",
    "            else:\n",
    "                trace_dict[project][day] = sum(tmp['dur'].tolist())/3600000\n",
    "                # add zeros\n",
    "    # print(trace_dict)\n",
    "\n",
    "    trace_dict2 = dict() \n",
    "    for k, v in trace_dict.items():\n",
    "        trace_dict2[k] = OrderedDict(sorted(trace_dict[k].items()))\n",
    "\n",
    "    fig = go.Figure()\n",
    "    # for project in projects:\n",
    "    for key in trace_dict.keys():\n",
    "        \n",
    "        y = list(trace_dict[key].values())\n",
    "       \n",
    "        fig.add_trace(go.Bar(\n",
    "            x = days,\n",
    "            y = y, name = key\n",
    "        ))\n",
    "    fig.update_layout(width  =1000, barmode = 'stack')\n",
    "    return fig,y"
   ]
  },
  {
   "cell_type": "code",
   "execution_count": 366,
   "metadata": {
    "tags": []
   },
   "outputs": [
    {
     "output_type": "display_data",
     "data": {
      "application/vnd.plotly.v1+json": {
       "config": {
        "plotlyServerURL": "https://plot.ly"
       },
       "data": [
        {
         "name": "Side Projects",
         "type": "bar",
         "x": [
          "2020-08-06",
          "2020-08-07",
          "2020-08-10",
          "2020-08-11",
          "2020-08-12",
          "2020-08-13",
          "2020-08-14",
          "2020-08-16",
          "2020-08-17",
          "2020-08-18",
          "2020-08-19",
          "2020-08-20",
          "2020-08-21",
          "2020-08-22",
          "2020-08-23",
          "2020-08-24",
          "2020-08-25",
          "2020-08-26",
          "2020-08-27",
          "2020-08-28",
          "2020-08-29",
          "2020-08-30",
          "2020-08-31",
          "2020-09-01",
          "2020-09-02",
          "2020-09-03",
          "2020-09-04",
          "2020-09-05",
          "2020-09-06",
          "2020-09-07",
          "2020-09-08",
          "2020-09-09",
          "2020-09-10",
          "2020-09-11",
          "2020-09-12",
          "2020-09-14",
          "2020-09-15",
          "2020-09-16",
          "2020-09-17",
          "2020-09-18",
          "2020-09-19",
          "2020-09-20",
          "2020-09-21",
          "2020-09-22",
          "2020-09-23",
          "2020-09-24",
          "2020-09-26",
          "2020-09-27",
          "2020-09-28",
          "2020-09-29",
          "2020-09-30",
          "2020-10-01"
         ],
         "y": [
          0,
          0,
          0,
          0,
          0,
          0,
          0,
          0,
          0,
          0,
          0,
          0,
          0,
          0,
          2.0458333333333334,
          5.441666666666666,
          5.508055555555556,
          3.148888888888889,
          5.881111111111111,
          2.3208333333333333,
          0.16694444444444445,
          0,
          0,
          0,
          0,
          0,
          0,
          0,
          0,
          0,
          0,
          0,
          0,
          0,
          0,
          0,
          0,
          0,
          0,
          0,
          0,
          0,
          0,
          0,
          0,
          0,
          0,
          2.1758333333333333,
          1.0902777777777777,
          0,
          0,
          0
         ]
        },
        {
         "name": "chores",
         "type": "bar",
         "x": [
          "2020-08-06",
          "2020-08-07",
          "2020-08-10",
          "2020-08-11",
          "2020-08-12",
          "2020-08-13",
          "2020-08-14",
          "2020-08-16",
          "2020-08-17",
          "2020-08-18",
          "2020-08-19",
          "2020-08-20",
          "2020-08-21",
          "2020-08-22",
          "2020-08-23",
          "2020-08-24",
          "2020-08-25",
          "2020-08-26",
          "2020-08-27",
          "2020-08-28",
          "2020-08-29",
          "2020-08-30",
          "2020-08-31",
          "2020-09-01",
          "2020-09-02",
          "2020-09-03",
          "2020-09-04",
          "2020-09-05",
          "2020-09-06",
          "2020-09-07",
          "2020-09-08",
          "2020-09-09",
          "2020-09-10",
          "2020-09-11",
          "2020-09-12",
          "2020-09-14",
          "2020-09-15",
          "2020-09-16",
          "2020-09-17",
          "2020-09-18",
          "2020-09-19",
          "2020-09-20",
          "2020-09-21",
          "2020-09-22",
          "2020-09-23",
          "2020-09-24",
          "2020-09-26",
          "2020-09-27",
          "2020-09-28",
          "2020-09-29",
          "2020-09-30",
          "2020-10-01"
         ],
         "y": [
          0,
          0,
          0,
          0,
          0,
          0,
          0,
          0,
          0,
          0,
          0,
          0,
          0,
          0,
          0,
          0,
          0,
          0,
          0,
          0,
          0,
          0,
          0,
          0,
          0,
          0,
          0,
          0,
          0,
          0,
          0,
          0,
          0,
          0,
          0,
          0,
          0,
          0,
          0,
          0,
          0,
          0,
          0,
          0,
          0,
          0,
          3.4675,
          0,
          0,
          0,
          0,
          0
         ]
        },
        {
         "name": "web development(WFN)",
         "type": "bar",
         "x": [
          "2020-08-06",
          "2020-08-07",
          "2020-08-10",
          "2020-08-11",
          "2020-08-12",
          "2020-08-13",
          "2020-08-14",
          "2020-08-16",
          "2020-08-17",
          "2020-08-18",
          "2020-08-19",
          "2020-08-20",
          "2020-08-21",
          "2020-08-22",
          "2020-08-23",
          "2020-08-24",
          "2020-08-25",
          "2020-08-26",
          "2020-08-27",
          "2020-08-28",
          "2020-08-29",
          "2020-08-30",
          "2020-08-31",
          "2020-09-01",
          "2020-09-02",
          "2020-09-03",
          "2020-09-04",
          "2020-09-05",
          "2020-09-06",
          "2020-09-07",
          "2020-09-08",
          "2020-09-09",
          "2020-09-10",
          "2020-09-11",
          "2020-09-12",
          "2020-09-14",
          "2020-09-15",
          "2020-09-16",
          "2020-09-17",
          "2020-09-18",
          "2020-09-19",
          "2020-09-20",
          "2020-09-21",
          "2020-09-22",
          "2020-09-23",
          "2020-09-24",
          "2020-09-26",
          "2020-09-27",
          "2020-09-28",
          "2020-09-29",
          "2020-09-30",
          "2020-10-01"
         ],
         "y": [
          0,
          0,
          0,
          0.8952777777777777,
          1.9397222222222221,
          0,
          1.8475,
          0,
          0,
          0,
          0,
          0,
          0,
          0,
          0,
          0,
          0,
          0,
          0,
          0,
          0,
          0,
          0,
          0,
          0,
          0,
          0,
          0,
          0,
          0,
          0,
          0,
          0,
          0,
          0,
          0,
          0,
          0,
          0,
          0,
          0,
          0,
          0,
          0,
          0,
          0,
          0,
          0,
          0,
          0,
          0,
          0
         ]
        },
        {
         "name": "Overall",
         "type": "bar",
         "x": [
          "2020-08-06",
          "2020-08-07",
          "2020-08-10",
          "2020-08-11",
          "2020-08-12",
          "2020-08-13",
          "2020-08-14",
          "2020-08-16",
          "2020-08-17",
          "2020-08-18",
          "2020-08-19",
          "2020-08-20",
          "2020-08-21",
          "2020-08-22",
          "2020-08-23",
          "2020-08-24",
          "2020-08-25",
          "2020-08-26",
          "2020-08-27",
          "2020-08-28",
          "2020-08-29",
          "2020-08-30",
          "2020-08-31",
          "2020-09-01",
          "2020-09-02",
          "2020-09-03",
          "2020-09-04",
          "2020-09-05",
          "2020-09-06",
          "2020-09-07",
          "2020-09-08",
          "2020-09-09",
          "2020-09-10",
          "2020-09-11",
          "2020-09-12",
          "2020-09-14",
          "2020-09-15",
          "2020-09-16",
          "2020-09-17",
          "2020-09-18",
          "2020-09-19",
          "2020-09-20",
          "2020-09-21",
          "2020-09-22",
          "2020-09-23",
          "2020-09-24",
          "2020-09-26",
          "2020-09-27",
          "2020-09-28",
          "2020-09-29",
          "2020-09-30",
          "2020-10-01"
         ],
         "y": [
          0,
          0,
          0,
          0,
          0,
          0,
          0,
          0,
          0,
          0,
          0,
          0,
          0,
          0,
          0,
          0,
          0,
          0,
          0,
          0,
          0,
          0,
          0,
          0,
          4.065833333333333,
          0,
          1.3333333333333333,
          0,
          0,
          0,
          0,
          0,
          0,
          0,
          0,
          0,
          0,
          0,
          0,
          0,
          0,
          0,
          0,
          0,
          0,
          0,
          0,
          0,
          0,
          0,
          0,
          0
         ]
        },
        {
         "name": "Empty Project",
         "type": "bar",
         "x": [
          "2020-08-06",
          "2020-08-07",
          "2020-08-10",
          "2020-08-11",
          "2020-08-12",
          "2020-08-13",
          "2020-08-14",
          "2020-08-16",
          "2020-08-17",
          "2020-08-18",
          "2020-08-19",
          "2020-08-20",
          "2020-08-21",
          "2020-08-22",
          "2020-08-23",
          "2020-08-24",
          "2020-08-25",
          "2020-08-26",
          "2020-08-27",
          "2020-08-28",
          "2020-08-29",
          "2020-08-30",
          "2020-08-31",
          "2020-09-01",
          "2020-09-02",
          "2020-09-03",
          "2020-09-04",
          "2020-09-05",
          "2020-09-06",
          "2020-09-07",
          "2020-09-08",
          "2020-09-09",
          "2020-09-10",
          "2020-09-11",
          "2020-09-12",
          "2020-09-14",
          "2020-09-15",
          "2020-09-16",
          "2020-09-17",
          "2020-09-18",
          "2020-09-19",
          "2020-09-20",
          "2020-09-21",
          "2020-09-22",
          "2020-09-23",
          "2020-09-24",
          "2020-09-26",
          "2020-09-27",
          "2020-09-28",
          "2020-09-29",
          "2020-09-30",
          "2020-10-01"
         ],
         "y": [
          0,
          0,
          0,
          0,
          0,
          0,
          0.1,
          0,
          0.05388888888888889,
          0,
          0.12611111111111112,
          0,
          0,
          0,
          0,
          0,
          0,
          0,
          0,
          0,
          0,
          0,
          0,
          0,
          0,
          0,
          0,
          0,
          0,
          0,
          0,
          0,
          0,
          0,
          0,
          0,
          0,
          0,
          0,
          0,
          0,
          0,
          0,
          0,
          0,
          0,
          0,
          0,
          0,
          0,
          0,
          0
         ]
        },
        {
         "name": "College Work",
         "type": "bar",
         "x": [
          "2020-08-06",
          "2020-08-07",
          "2020-08-10",
          "2020-08-11",
          "2020-08-12",
          "2020-08-13",
          "2020-08-14",
          "2020-08-16",
          "2020-08-17",
          "2020-08-18",
          "2020-08-19",
          "2020-08-20",
          "2020-08-21",
          "2020-08-22",
          "2020-08-23",
          "2020-08-24",
          "2020-08-25",
          "2020-08-26",
          "2020-08-27",
          "2020-08-28",
          "2020-08-29",
          "2020-08-30",
          "2020-08-31",
          "2020-09-01",
          "2020-09-02",
          "2020-09-03",
          "2020-09-04",
          "2020-09-05",
          "2020-09-06",
          "2020-09-07",
          "2020-09-08",
          "2020-09-09",
          "2020-09-10",
          "2020-09-11",
          "2020-09-12",
          "2020-09-14",
          "2020-09-15",
          "2020-09-16",
          "2020-09-17",
          "2020-09-18",
          "2020-09-19",
          "2020-09-20",
          "2020-09-21",
          "2020-09-22",
          "2020-09-23",
          "2020-09-24",
          "2020-09-26",
          "2020-09-27",
          "2020-09-28",
          "2020-09-29",
          "2020-09-30",
          "2020-10-01"
         ],
         "y": [
          0,
          0,
          0,
          0,
          0,
          0.3338888888888889,
          0,
          0,
          0,
          0,
          0,
          0,
          0,
          0,
          0,
          0,
          0,
          0,
          0,
          0,
          0,
          0,
          0,
          0.8230555555555555,
          0,
          0,
          0.01972222222222222,
          4.757777777777778,
          7.666666666666667,
          4.583333333333333,
          4.583333333333333,
          6.083333333333333,
          7.333333333333333,
          4.166666666666667,
          0,
          0.5641666666666667,
          0,
          0,
          0,
          0,
          2.5894444444444447,
          0,
          0,
          0,
          0,
          0,
          0.5,
          0,
          0,
          0,
          0,
          1
         ]
        },
        {
         "name": "Books and Courses",
         "type": "bar",
         "x": [
          "2020-08-06",
          "2020-08-07",
          "2020-08-10",
          "2020-08-11",
          "2020-08-12",
          "2020-08-13",
          "2020-08-14",
          "2020-08-16",
          "2020-08-17",
          "2020-08-18",
          "2020-08-19",
          "2020-08-20",
          "2020-08-21",
          "2020-08-22",
          "2020-08-23",
          "2020-08-24",
          "2020-08-25",
          "2020-08-26",
          "2020-08-27",
          "2020-08-28",
          "2020-08-29",
          "2020-08-30",
          "2020-08-31",
          "2020-09-01",
          "2020-09-02",
          "2020-09-03",
          "2020-09-04",
          "2020-09-05",
          "2020-09-06",
          "2020-09-07",
          "2020-09-08",
          "2020-09-09",
          "2020-09-10",
          "2020-09-11",
          "2020-09-12",
          "2020-09-14",
          "2020-09-15",
          "2020-09-16",
          "2020-09-17",
          "2020-09-18",
          "2020-09-19",
          "2020-09-20",
          "2020-09-21",
          "2020-09-22",
          "2020-09-23",
          "2020-09-24",
          "2020-09-26",
          "2020-09-27",
          "2020-09-28",
          "2020-09-29",
          "2020-09-30",
          "2020-10-01"
         ],
         "y": [
          0.7572222222222222,
          0.4166666666666667,
          2.403611111111111,
          3.546388888888889,
          0.4419444444444444,
          1.8691666666666666,
          0.7047222222222222,
          1.4208333333333334,
          5.282810277777778,
          1.558888888888889,
          1.1966666666666668,
          1.1394444444444445,
          1.6802777777777778,
          1.6858333333333333,
          0.14888888888888888,
          1.0833333333333333,
          0,
          2.3183333333333334,
          0.7436111111111111,
          1.3997222222222223,
          0,
          3.042222222222222,
          4.663888888888889,
          0.4225,
          0,
          0,
          0,
          0,
          0,
          0,
          0,
          0,
          0,
          0,
          0,
          0,
          0.8108333333333333,
          3.5730555555555554,
          0,
          0,
          1,
          0,
          0,
          0,
          2.491388888888889,
          1.7561111111111112,
          2.6025,
          3.281111111111111,
          4.226111111111111,
          6.923611111111111,
          5.333333333333333,
          5
         ]
        },
        {
         "name": "Googling/Browsing",
         "type": "bar",
         "x": [
          "2020-08-06",
          "2020-08-07",
          "2020-08-10",
          "2020-08-11",
          "2020-08-12",
          "2020-08-13",
          "2020-08-14",
          "2020-08-16",
          "2020-08-17",
          "2020-08-18",
          "2020-08-19",
          "2020-08-20",
          "2020-08-21",
          "2020-08-22",
          "2020-08-23",
          "2020-08-24",
          "2020-08-25",
          "2020-08-26",
          "2020-08-27",
          "2020-08-28",
          "2020-08-29",
          "2020-08-30",
          "2020-08-31",
          "2020-09-01",
          "2020-09-02",
          "2020-09-03",
          "2020-09-04",
          "2020-09-05",
          "2020-09-06",
          "2020-09-07",
          "2020-09-08",
          "2020-09-09",
          "2020-09-10",
          "2020-09-11",
          "2020-09-12",
          "2020-09-14",
          "2020-09-15",
          "2020-09-16",
          "2020-09-17",
          "2020-09-18",
          "2020-09-19",
          "2020-09-20",
          "2020-09-21",
          "2020-09-22",
          "2020-09-23",
          "2020-09-24",
          "2020-09-26",
          "2020-09-27",
          "2020-09-28",
          "2020-09-29",
          "2020-09-30",
          "2020-10-01"
         ],
         "y": [
          0,
          0,
          0,
          0,
          0,
          0,
          0.7827777777777778,
          0,
          0,
          1.0055555555555555,
          0,
          0,
          0.7002777777777778,
          0,
          0,
          0,
          0,
          0,
          0,
          0,
          0,
          0,
          0,
          0,
          0,
          0,
          0,
          0,
          0,
          0,
          0,
          0,
          0,
          0,
          0,
          0,
          0,
          0,
          0,
          0,
          0,
          0,
          0,
          0,
          0.5,
          0,
          0,
          0,
          0,
          0,
          0,
          0
         ]
        },
        {
         "name": "Kaggle",
         "type": "bar",
         "x": [
          "2020-08-06",
          "2020-08-07",
          "2020-08-10",
          "2020-08-11",
          "2020-08-12",
          "2020-08-13",
          "2020-08-14",
          "2020-08-16",
          "2020-08-17",
          "2020-08-18",
          "2020-08-19",
          "2020-08-20",
          "2020-08-21",
          "2020-08-22",
          "2020-08-23",
          "2020-08-24",
          "2020-08-25",
          "2020-08-26",
          "2020-08-27",
          "2020-08-28",
          "2020-08-29",
          "2020-08-30",
          "2020-08-31",
          "2020-09-01",
          "2020-09-02",
          "2020-09-03",
          "2020-09-04",
          "2020-09-05",
          "2020-09-06",
          "2020-09-07",
          "2020-09-08",
          "2020-09-09",
          "2020-09-10",
          "2020-09-11",
          "2020-09-12",
          "2020-09-14",
          "2020-09-15",
          "2020-09-16",
          "2020-09-17",
          "2020-09-18",
          "2020-09-19",
          "2020-09-20",
          "2020-09-21",
          "2020-09-22",
          "2020-09-23",
          "2020-09-24",
          "2020-09-26",
          "2020-09-27",
          "2020-09-28",
          "2020-09-29",
          "2020-09-30",
          "2020-10-01"
         ],
         "y": [
          0,
          0,
          0,
          0,
          0,
          0,
          0,
          0,
          0,
          0,
          0,
          0,
          0,
          0,
          0,
          0,
          0,
          0,
          0,
          0,
          0,
          0,
          0,
          0,
          0,
          6.116666666666666,
          4.602777777777778,
          0,
          0,
          0,
          0,
          0,
          0,
          2.1533333333333333,
          6.916111111111111,
          4.611666666666666,
          5.101388888888889,
          2.2491666666666665,
          2.895277777777778,
          10.533888888888889,
          2.4166666666666665,
          1.26,
          2,
          1.9269444444444443,
          0,
          0,
          0.6369444444444444,
          0.5480555555555555,
          0,
          0,
          0,
          0
         ]
        },
        {
         "name": "Wiki For Nerds",
         "type": "bar",
         "x": [
          "2020-08-06",
          "2020-08-07",
          "2020-08-10",
          "2020-08-11",
          "2020-08-12",
          "2020-08-13",
          "2020-08-14",
          "2020-08-16",
          "2020-08-17",
          "2020-08-18",
          "2020-08-19",
          "2020-08-20",
          "2020-08-21",
          "2020-08-22",
          "2020-08-23",
          "2020-08-24",
          "2020-08-25",
          "2020-08-26",
          "2020-08-27",
          "2020-08-28",
          "2020-08-29",
          "2020-08-30",
          "2020-08-31",
          "2020-09-01",
          "2020-09-02",
          "2020-09-03",
          "2020-09-04",
          "2020-09-05",
          "2020-09-06",
          "2020-09-07",
          "2020-09-08",
          "2020-09-09",
          "2020-09-10",
          "2020-09-11",
          "2020-09-12",
          "2020-09-14",
          "2020-09-15",
          "2020-09-16",
          "2020-09-17",
          "2020-09-18",
          "2020-09-19",
          "2020-09-20",
          "2020-09-21",
          "2020-09-22",
          "2020-09-23",
          "2020-09-24",
          "2020-09-26",
          "2020-09-27",
          "2020-09-28",
          "2020-09-29",
          "2020-09-30",
          "2020-10-01"
         ],
         "y": [
          0,
          0,
          0,
          0,
          0,
          0,
          0,
          0,
          0,
          0,
          0.8333333333333334,
          1.0980555555555556,
          0,
          1.3283333333333334,
          0,
          0,
          0,
          0,
          0,
          0,
          0,
          0,
          0,
          0,
          0,
          0,
          0,
          0,
          0,
          0,
          0,
          0,
          0,
          0,
          0,
          0,
          0,
          0,
          0,
          0,
          0,
          0,
          0,
          0,
          0,
          0,
          0,
          0,
          0,
          0,
          0,
          0
         ]
        }
       ],
       "layout": {
        "barmode": "stack",
        "template": {
         "data": {
          "bar": [
           {
            "error_x": {
             "color": "#2a3f5f"
            },
            "error_y": {
             "color": "#2a3f5f"
            },
            "marker": {
             "line": {
              "color": "#E5ECF6",
              "width": 0.5
             }
            },
            "type": "bar"
           }
          ],
          "barpolar": [
           {
            "marker": {
             "line": {
              "color": "#E5ECF6",
              "width": 0.5
             }
            },
            "type": "barpolar"
           }
          ],
          "carpet": [
           {
            "aaxis": {
             "endlinecolor": "#2a3f5f",
             "gridcolor": "white",
             "linecolor": "white",
             "minorgridcolor": "white",
             "startlinecolor": "#2a3f5f"
            },
            "baxis": {
             "endlinecolor": "#2a3f5f",
             "gridcolor": "white",
             "linecolor": "white",
             "minorgridcolor": "white",
             "startlinecolor": "#2a3f5f"
            },
            "type": "carpet"
           }
          ],
          "choropleth": [
           {
            "colorbar": {
             "outlinewidth": 0,
             "ticks": ""
            },
            "type": "choropleth"
           }
          ],
          "contour": [
           {
            "colorbar": {
             "outlinewidth": 0,
             "ticks": ""
            },
            "colorscale": [
             [
              0,
              "#0d0887"
             ],
             [
              0.1111111111111111,
              "#46039f"
             ],
             [
              0.2222222222222222,
              "#7201a8"
             ],
             [
              0.3333333333333333,
              "#9c179e"
             ],
             [
              0.4444444444444444,
              "#bd3786"
             ],
             [
              0.5555555555555556,
              "#d8576b"
             ],
             [
              0.6666666666666666,
              "#ed7953"
             ],
             [
              0.7777777777777778,
              "#fb9f3a"
             ],
             [
              0.8888888888888888,
              "#fdca26"
             ],
             [
              1,
              "#f0f921"
             ]
            ],
            "type": "contour"
           }
          ],
          "contourcarpet": [
           {
            "colorbar": {
             "outlinewidth": 0,
             "ticks": ""
            },
            "type": "contourcarpet"
           }
          ],
          "heatmap": [
           {
            "colorbar": {
             "outlinewidth": 0,
             "ticks": ""
            },
            "colorscale": [
             [
              0,
              "#0d0887"
             ],
             [
              0.1111111111111111,
              "#46039f"
             ],
             [
              0.2222222222222222,
              "#7201a8"
             ],
             [
              0.3333333333333333,
              "#9c179e"
             ],
             [
              0.4444444444444444,
              "#bd3786"
             ],
             [
              0.5555555555555556,
              "#d8576b"
             ],
             [
              0.6666666666666666,
              "#ed7953"
             ],
             [
              0.7777777777777778,
              "#fb9f3a"
             ],
             [
              0.8888888888888888,
              "#fdca26"
             ],
             [
              1,
              "#f0f921"
             ]
            ],
            "type": "heatmap"
           }
          ],
          "heatmapgl": [
           {
            "colorbar": {
             "outlinewidth": 0,
             "ticks": ""
            },
            "colorscale": [
             [
              0,
              "#0d0887"
             ],
             [
              0.1111111111111111,
              "#46039f"
             ],
             [
              0.2222222222222222,
              "#7201a8"
             ],
             [
              0.3333333333333333,
              "#9c179e"
             ],
             [
              0.4444444444444444,
              "#bd3786"
             ],
             [
              0.5555555555555556,
              "#d8576b"
             ],
             [
              0.6666666666666666,
              "#ed7953"
             ],
             [
              0.7777777777777778,
              "#fb9f3a"
             ],
             [
              0.8888888888888888,
              "#fdca26"
             ],
             [
              1,
              "#f0f921"
             ]
            ],
            "type": "heatmapgl"
           }
          ],
          "histogram": [
           {
            "marker": {
             "colorbar": {
              "outlinewidth": 0,
              "ticks": ""
             }
            },
            "type": "histogram"
           }
          ],
          "histogram2d": [
           {
            "colorbar": {
             "outlinewidth": 0,
             "ticks": ""
            },
            "colorscale": [
             [
              0,
              "#0d0887"
             ],
             [
              0.1111111111111111,
              "#46039f"
             ],
             [
              0.2222222222222222,
              "#7201a8"
             ],
             [
              0.3333333333333333,
              "#9c179e"
             ],
             [
              0.4444444444444444,
              "#bd3786"
             ],
             [
              0.5555555555555556,
              "#d8576b"
             ],
             [
              0.6666666666666666,
              "#ed7953"
             ],
             [
              0.7777777777777778,
              "#fb9f3a"
             ],
             [
              0.8888888888888888,
              "#fdca26"
             ],
             [
              1,
              "#f0f921"
             ]
            ],
            "type": "histogram2d"
           }
          ],
          "histogram2dcontour": [
           {
            "colorbar": {
             "outlinewidth": 0,
             "ticks": ""
            },
            "colorscale": [
             [
              0,
              "#0d0887"
             ],
             [
              0.1111111111111111,
              "#46039f"
             ],
             [
              0.2222222222222222,
              "#7201a8"
             ],
             [
              0.3333333333333333,
              "#9c179e"
             ],
             [
              0.4444444444444444,
              "#bd3786"
             ],
             [
              0.5555555555555556,
              "#d8576b"
             ],
             [
              0.6666666666666666,
              "#ed7953"
             ],
             [
              0.7777777777777778,
              "#fb9f3a"
             ],
             [
              0.8888888888888888,
              "#fdca26"
             ],
             [
              1,
              "#f0f921"
             ]
            ],
            "type": "histogram2dcontour"
           }
          ],
          "mesh3d": [
           {
            "colorbar": {
             "outlinewidth": 0,
             "ticks": ""
            },
            "type": "mesh3d"
           }
          ],
          "parcoords": [
           {
            "line": {
             "colorbar": {
              "outlinewidth": 0,
              "ticks": ""
             }
            },
            "type": "parcoords"
           }
          ],
          "pie": [
           {
            "automargin": true,
            "type": "pie"
           }
          ],
          "scatter": [
           {
            "marker": {
             "colorbar": {
              "outlinewidth": 0,
              "ticks": ""
             }
            },
            "type": "scatter"
           }
          ],
          "scatter3d": [
           {
            "line": {
             "colorbar": {
              "outlinewidth": 0,
              "ticks": ""
             }
            },
            "marker": {
             "colorbar": {
              "outlinewidth": 0,
              "ticks": ""
             }
            },
            "type": "scatter3d"
           }
          ],
          "scattercarpet": [
           {
            "marker": {
             "colorbar": {
              "outlinewidth": 0,
              "ticks": ""
             }
            },
            "type": "scattercarpet"
           }
          ],
          "scattergeo": [
           {
            "marker": {
             "colorbar": {
              "outlinewidth": 0,
              "ticks": ""
             }
            },
            "type": "scattergeo"
           }
          ],
          "scattergl": [
           {
            "marker": {
             "colorbar": {
              "outlinewidth": 0,
              "ticks": ""
             }
            },
            "type": "scattergl"
           }
          ],
          "scattermapbox": [
           {
            "marker": {
             "colorbar": {
              "outlinewidth": 0,
              "ticks": ""
             }
            },
            "type": "scattermapbox"
           }
          ],
          "scatterpolar": [
           {
            "marker": {
             "colorbar": {
              "outlinewidth": 0,
              "ticks": ""
             }
            },
            "type": "scatterpolar"
           }
          ],
          "scatterpolargl": [
           {
            "marker": {
             "colorbar": {
              "outlinewidth": 0,
              "ticks": ""
             }
            },
            "type": "scatterpolargl"
           }
          ],
          "scatterternary": [
           {
            "marker": {
             "colorbar": {
              "outlinewidth": 0,
              "ticks": ""
             }
            },
            "type": "scatterternary"
           }
          ],
          "surface": [
           {
            "colorbar": {
             "outlinewidth": 0,
             "ticks": ""
            },
            "colorscale": [
             [
              0,
              "#0d0887"
             ],
             [
              0.1111111111111111,
              "#46039f"
             ],
             [
              0.2222222222222222,
              "#7201a8"
             ],
             [
              0.3333333333333333,
              "#9c179e"
             ],
             [
              0.4444444444444444,
              "#bd3786"
             ],
             [
              0.5555555555555556,
              "#d8576b"
             ],
             [
              0.6666666666666666,
              "#ed7953"
             ],
             [
              0.7777777777777778,
              "#fb9f3a"
             ],
             [
              0.8888888888888888,
              "#fdca26"
             ],
             [
              1,
              "#f0f921"
             ]
            ],
            "type": "surface"
           }
          ],
          "table": [
           {
            "cells": {
             "fill": {
              "color": "#EBF0F8"
             },
             "line": {
              "color": "white"
             }
            },
            "header": {
             "fill": {
              "color": "#C8D4E3"
             },
             "line": {
              "color": "white"
             }
            },
            "type": "table"
           }
          ]
         },
         "layout": {
          "annotationdefaults": {
           "arrowcolor": "#2a3f5f",
           "arrowhead": 0,
           "arrowwidth": 1
          },
          "coloraxis": {
           "colorbar": {
            "outlinewidth": 0,
            "ticks": ""
           }
          },
          "colorscale": {
           "diverging": [
            [
             0,
             "#8e0152"
            ],
            [
             0.1,
             "#c51b7d"
            ],
            [
             0.2,
             "#de77ae"
            ],
            [
             0.3,
             "#f1b6da"
            ],
            [
             0.4,
             "#fde0ef"
            ],
            [
             0.5,
             "#f7f7f7"
            ],
            [
             0.6,
             "#e6f5d0"
            ],
            [
             0.7,
             "#b8e186"
            ],
            [
             0.8,
             "#7fbc41"
            ],
            [
             0.9,
             "#4d9221"
            ],
            [
             1,
             "#276419"
            ]
           ],
           "sequential": [
            [
             0,
             "#0d0887"
            ],
            [
             0.1111111111111111,
             "#46039f"
            ],
            [
             0.2222222222222222,
             "#7201a8"
            ],
            [
             0.3333333333333333,
             "#9c179e"
            ],
            [
             0.4444444444444444,
             "#bd3786"
            ],
            [
             0.5555555555555556,
             "#d8576b"
            ],
            [
             0.6666666666666666,
             "#ed7953"
            ],
            [
             0.7777777777777778,
             "#fb9f3a"
            ],
            [
             0.8888888888888888,
             "#fdca26"
            ],
            [
             1,
             "#f0f921"
            ]
           ],
           "sequentialminus": [
            [
             0,
             "#0d0887"
            ],
            [
             0.1111111111111111,
             "#46039f"
            ],
            [
             0.2222222222222222,
             "#7201a8"
            ],
            [
             0.3333333333333333,
             "#9c179e"
            ],
            [
             0.4444444444444444,
             "#bd3786"
            ],
            [
             0.5555555555555556,
             "#d8576b"
            ],
            [
             0.6666666666666666,
             "#ed7953"
            ],
            [
             0.7777777777777778,
             "#fb9f3a"
            ],
            [
             0.8888888888888888,
             "#fdca26"
            ],
            [
             1,
             "#f0f921"
            ]
           ]
          },
          "colorway": [
           "#636efa",
           "#EF553B",
           "#00cc96",
           "#ab63fa",
           "#FFA15A",
           "#19d3f3",
           "#FF6692",
           "#B6E880",
           "#FF97FF",
           "#FECB52"
          ],
          "font": {
           "color": "#2a3f5f"
          },
          "geo": {
           "bgcolor": "white",
           "lakecolor": "white",
           "landcolor": "#E5ECF6",
           "showlakes": true,
           "showland": true,
           "subunitcolor": "white"
          },
          "hoverlabel": {
           "align": "left"
          },
          "hovermode": "closest",
          "mapbox": {
           "style": "light"
          },
          "paper_bgcolor": "white",
          "plot_bgcolor": "#E5ECF6",
          "polar": {
           "angularaxis": {
            "gridcolor": "white",
            "linecolor": "white",
            "ticks": ""
           },
           "bgcolor": "#E5ECF6",
           "radialaxis": {
            "gridcolor": "white",
            "linecolor": "white",
            "ticks": ""
           }
          },
          "scene": {
           "xaxis": {
            "backgroundcolor": "#E5ECF6",
            "gridcolor": "white",
            "gridwidth": 2,
            "linecolor": "white",
            "showbackground": true,
            "ticks": "",
            "zerolinecolor": "white"
           },
           "yaxis": {
            "backgroundcolor": "#E5ECF6",
            "gridcolor": "white",
            "gridwidth": 2,
            "linecolor": "white",
            "showbackground": true,
            "ticks": "",
            "zerolinecolor": "white"
           },
           "zaxis": {
            "backgroundcolor": "#E5ECF6",
            "gridcolor": "white",
            "gridwidth": 2,
            "linecolor": "white",
            "showbackground": true,
            "ticks": "",
            "zerolinecolor": "white"
           }
          },
          "shapedefaults": {
           "line": {
            "color": "#2a3f5f"
           }
          },
          "ternary": {
           "aaxis": {
            "gridcolor": "white",
            "linecolor": "white",
            "ticks": ""
           },
           "baxis": {
            "gridcolor": "white",
            "linecolor": "white",
            "ticks": ""
           },
           "bgcolor": "#E5ECF6",
           "caxis": {
            "gridcolor": "white",
            "linecolor": "white",
            "ticks": ""
           }
          },
          "title": {
           "x": 0.05
          },
          "xaxis": {
           "automargin": true,
           "gridcolor": "white",
           "linecolor": "white",
           "ticks": "",
           "title": {
            "standoff": 15
           },
           "zerolinecolor": "white",
           "zerolinewidth": 2
          },
          "yaxis": {
           "automargin": true,
           "gridcolor": "white",
           "linecolor": "white",
           "ticks": "",
           "title": {
            "standoff": 15
           },
           "zerolinecolor": "white",
           "zerolinewidth": 2
          }
         }
        },
        "width": 1000
       }
      }
     },
     "metadata": {}
    }
   ],
   "source": [
    "fig,y  =build_stacked_bar(return_df)\n",
    "fig.show()"
   ]
  },
  {
   "cell_type": "code",
   "execution_count": null,
   "metadata": {},
   "outputs": [],
   "source": []
  },
  {
   "cell_type": "code",
   "execution_count": 118,
   "metadata": {},
   "outputs": [
    {
     "output_type": "execute_result",
     "data": {
      "text/plain": "&#39;2020-10-01T09:55:00&#39;"
     },
     "metadata": {},
     "execution_count": 118
    }
   ],
   "source": [
    "df['start'].tolist()[3].split('+')[0]"
   ]
  },
  {
   "source": [
    "cols = [\n",
    "        'description',\n",
    "        'start',\n",
    "        'end',\n",
    "        'updated',\n",
    "        'dur',\n",
    "        'project',\n",
    "        'project_hex_color'\n",
    "        ]\n",
    "print(cols)"
   ],
   "cell_type": "code",
   "metadata": {
    "tags": []
   },
   "execution_count": 119,
   "outputs": [
    {
     "output_type": "stream",
     "name": "stdout",
     "text": "[&#39;description&#39;, &#39;start&#39;, &#39;end&#39;, &#39;updated&#39;, &#39;dur&#39;, &#39;project&#39;, &#39;project_hex_color&#39;]\n"
    }
   ]
  },
  {
   "cell_type": "code",
   "execution_count": 120,
   "metadata": {},
   "outputs": [],
   "source": [
    "\n",
    "response = requests.get(URL, auth = (username, password)).json()\n"
   ]
  },
  {
   "cell_type": "code",
   "execution_count": 121,
   "metadata": {},
   "outputs": [],
   "source": [
    "df_tasks = defaultdict(list)\n",
    "df_projects = defaultdict(list)\n",
    "df = defaultdict(list)"
   ]
  },
  {
   "cell_type": "code",
   "execution_count": 122,
   "metadata": {},
   "outputs": [],
   "source": [
    "data = response['data'] # is a list\n",
    "for project in data:\n",
    "    tasks = project['items'] # is a list too, containing dictionaries \n",
    "    for task in tasks:\n",
    "        df['task'].append(task['title']['time_entry'])\n",
    "        df['task time duration'].append(task['time'])\n",
    "        df['project'].append(project['title']['project'])\n",
    "        # df['project name'].append(project['title']['project'])\n",
    "        df['project time duration'].append(project['time'])\n",
    "        df['project color'].append(project['title']['hex_color'])\n"
   ]
  },
  {
   "cell_type": "code",
   "execution_count": 123,
   "metadata": {},
   "outputs": [
    {
     "output_type": "execute_result",
     "data": {
      "text/plain": "                  task  task time duration            project  \\\n0         DLP Course 1              694000  Books and Courses   \n1  DLS Course 2 Week 2            12879000  Books and Courses   \n2  DLS Course 2 Week 3            18050000  Books and Courses   \n3  DLS Course 4 Week 1            11495000  Books and Courses   \n4  DLS Course 4 Week 2            17518117  Books and Courses   \n\n   project time duration project color  \n0              269730117       #d92b2b  \n1              269730117       #d92b2b  \n2              269730117       #d92b2b  \n3              269730117       #d92b2b  \n4              269730117       #d92b2b  ",
      "text/html": "<div>\n<style scoped>\n    .dataframe tbody tr th:only-of-type {\n        vertical-align: middle;\n    }\n\n    .dataframe tbody tr th {\n        vertical-align: top;\n    }\n\n    .dataframe thead th {\n        text-align: right;\n    }\n</style>\n<table border=\"1\" class=\"dataframe\">\n  <thead>\n    <tr style=\"text-align: right;\">\n      <th></th>\n      <th>task</th>\n      <th>task time duration</th>\n      <th>project</th>\n      <th>project time duration</th>\n      <th>project color</th>\n    </tr>\n  </thead>\n  <tbody>\n    <tr>\n      <th>0</th>\n      <td>DLP Course 1</td>\n      <td>694000</td>\n      <td>Books and Courses</td>\n      <td>269730117</td>\n      <td>#d92b2b</td>\n    </tr>\n    <tr>\n      <th>1</th>\n      <td>DLS Course 2 Week 2</td>\n      <td>12879000</td>\n      <td>Books and Courses</td>\n      <td>269730117</td>\n      <td>#d92b2b</td>\n    </tr>\n    <tr>\n      <th>2</th>\n      <td>DLS Course 2 Week 3</td>\n      <td>18050000</td>\n      <td>Books and Courses</td>\n      <td>269730117</td>\n      <td>#d92b2b</td>\n    </tr>\n    <tr>\n      <th>3</th>\n      <td>DLS Course 4 Week 1</td>\n      <td>11495000</td>\n      <td>Books and Courses</td>\n      <td>269730117</td>\n      <td>#d92b2b</td>\n    </tr>\n    <tr>\n      <th>4</th>\n      <td>DLS Course 4 Week 2</td>\n      <td>17518117</td>\n      <td>Books and Courses</td>\n      <td>269730117</td>\n      <td>#d92b2b</td>\n    </tr>\n  </tbody>\n</table>\n</div>"
     },
     "metadata": {},
     "execution_count": 123
    }
   ],
   "source": [
    "df = pd.DataFrame.from_dict(df)\n",
    "pd.set_option('display.max_rows', 500)\n",
    "df = df.dropna()\n",
    "df.head()\n",
    "# df.iloc[-1]"
   ]
  },
  {
   "cell_type": "code",
   "execution_count": 85,
   "metadata": {},
   "outputs": [],
   "source": [
    "def build_sunburst_data(df, parents, labels,values, string = 'total'):\n",
    "    \n",
    "    main_parents = list(set(parents))\n",
    "    main_values = []\n",
    "    \n",
    "    for main_parent in  main_parents:\n",
    "        tmp = []\n",
    "        for parent, label, value in zip(parents, labels, values):\n",
    "            if parent == main_parent:\n",
    "                tmp.append(value)\n",
    "        main_values.append(sum(tmp))\n",
    "    \n",
    "    parents += [string] * len(main_parents)\n",
    "    labels += main_parents\n",
    "    values += main_values\n",
    "\n",
    "    parents.append(\"\")\n",
    "    labels.append(string)\n",
    "    values.append(0.5*sum(values))\n",
    "\n",
    "    return parents, labels, values"
   ]
  },
  {
   "cell_type": "code",
   "execution_count": 86,
   "metadata": {},
   "outputs": [],
   "source": [
    "parents, labels, values = build_sunburst_data(df, df['project'].tolist(), df['task'].tolist(),df['task time duration'].tolist(), string = 'total')"
   ]
  },
  {
   "cell_type": "code",
   "execution_count": 94,
   "metadata": {},
   "outputs": [
    {
     "output_type": "display_data",
     "data": {
      "application/vnd.plotly.v1+json": {
       "config": {
        "plotlyServerURL": "https://plot.ly"
       },
       "data": [
        {
         "branchvalues": "total",
         "labels": [
          "DLP Course 1",
          "DLS Course 2 Week 2",
          "DLS Course 2 Week 3",
          "DLS Course 4 Week 1",
          "DLS Course 4 Week 2",
          "DLS Course 4 Week 3",
          "DLS Course 4 Week 4",
          "DLS Course 5",
          "Hands on ML",
          "Inception Paper",
          "NLP Course 2",
          "Res Net Paper",
          "TIP Course 1",
          "TIP Course 2",
          "TIP Course 3",
          "TIP Course 4",
          "applying to a data science intern position",
          "mails, docs, pdfs",
          "resume",
          "assignment",
          "DSD",
          "DSD TA",
          "ED Assignment ",
          "Electronic Devices UT 1",
          "Math for UT",
          "Network Theory UT 1",
          "NT Unit 1",
          "reading economics for speech ",
          "Signals and Systems",
          "TBI data collection",
          "",
          "DL",
          "PyPi setup",
          "Detecting Pneumonia ",
          "Mechanisms of Action (MoA) Prediction",
          "OpenVaccine: COVID-19 mRNA Vaccine Degradation Prediction",
          "Applying for Fellowship ",
          "Creating Resume",
          "Filling the MLH Form ",
          "reading unscripted",
          "three js",
          "creating plotly based 3d scatter plots for wfn",
          "reading about mediawiki api",
          "WFN PPT",
          "chores",
          "Books and Courses",
          "College Work",
          "Kaggle",
          "web development(WFN)",
          "Wiki For Nerds",
          "Googling/Browsing",
          "Overall",
          "Side Projects",
          "total"
         ],
         "parents": [
          "Books and Courses",
          "Books and Courses",
          "Books and Courses",
          "Books and Courses",
          "Books and Courses",
          "Books and Courses",
          "Books and Courses",
          "Books and Courses",
          "Books and Courses",
          "Books and Courses",
          "Books and Courses",
          "Books and Courses",
          "Books and Courses",
          "Books and Courses",
          "Books and Courses",
          "Books and Courses",
          "chores",
          "chores",
          "chores",
          "College Work",
          "College Work",
          "College Work",
          "College Work",
          "College Work",
          "College Work",
          "College Work",
          "College Work",
          "College Work",
          "College Work",
          "College Work",
          "Googling/Browsing",
          "Googling/Browsing",
          "Googling/Browsing",
          "Kaggle",
          "Kaggle",
          "Kaggle",
          "Overall",
          "Overall",
          "Overall",
          "Side Projects",
          "web development(WFN)",
          "Wiki For Nerds",
          "Wiki For Nerds",
          "Wiki For Nerds",
          "total",
          "total",
          "total",
          "total",
          "total",
          "total",
          "total",
          "total",
          "total",
          ""
         ],
         "textinfo": "none",
         "type": "sunburst",
         "values": [
          694000,
          12879000,
          18050000,
          11495000,
          17518117,
          5146000,
          4308000,
          23492000,
          37200000,
          254000,
          51951000,
          212000,
          23887000,
          27679000,
          21825000,
          13140000,
          1826000,
          8234000,
          2423000,
          9322000,
          31200000,
          1800000,
          3600000,
          11700000,
          30900000,
          53499000,
          1202000,
          2963000,
          13800000,
          2031000,
          2521000,
          6438000,
          1800000,
          38590000,
          3000,
          155695000,
          3000,
          14634000,
          4800000,
          100006000,
          16857000,
          2808000,
          1974000,
          6953000,
          12483000,
          269730117,
          162017000,
          194288000,
          16857000,
          11735000,
          10759000,
          19437000,
          100006000,
          797312117
         ]
        }
       ],
       "layout": {
        "template": {
         "data": {
          "bar": [
           {
            "error_x": {
             "color": "#2a3f5f"
            },
            "error_y": {
             "color": "#2a3f5f"
            },
            "marker": {
             "line": {
              "color": "#E5ECF6",
              "width": 0.5
             }
            },
            "type": "bar"
           }
          ],
          "barpolar": [
           {
            "marker": {
             "line": {
              "color": "#E5ECF6",
              "width": 0.5
             }
            },
            "type": "barpolar"
           }
          ],
          "carpet": [
           {
            "aaxis": {
             "endlinecolor": "#2a3f5f",
             "gridcolor": "white",
             "linecolor": "white",
             "minorgridcolor": "white",
             "startlinecolor": "#2a3f5f"
            },
            "baxis": {
             "endlinecolor": "#2a3f5f",
             "gridcolor": "white",
             "linecolor": "white",
             "minorgridcolor": "white",
             "startlinecolor": "#2a3f5f"
            },
            "type": "carpet"
           }
          ],
          "choropleth": [
           {
            "colorbar": {
             "outlinewidth": 0,
             "ticks": ""
            },
            "type": "choropleth"
           }
          ],
          "contour": [
           {
            "colorbar": {
             "outlinewidth": 0,
             "ticks": ""
            },
            "colorscale": [
             [
              0,
              "#0d0887"
             ],
             [
              0.1111111111111111,
              "#46039f"
             ],
             [
              0.2222222222222222,
              "#7201a8"
             ],
             [
              0.3333333333333333,
              "#9c179e"
             ],
             [
              0.4444444444444444,
              "#bd3786"
             ],
             [
              0.5555555555555556,
              "#d8576b"
             ],
             [
              0.6666666666666666,
              "#ed7953"
             ],
             [
              0.7777777777777778,
              "#fb9f3a"
             ],
             [
              0.8888888888888888,
              "#fdca26"
             ],
             [
              1,
              "#f0f921"
             ]
            ],
            "type": "contour"
           }
          ],
          "contourcarpet": [
           {
            "colorbar": {
             "outlinewidth": 0,
             "ticks": ""
            },
            "type": "contourcarpet"
           }
          ],
          "heatmap": [
           {
            "colorbar": {
             "outlinewidth": 0,
             "ticks": ""
            },
            "colorscale": [
             [
              0,
              "#0d0887"
             ],
             [
              0.1111111111111111,
              "#46039f"
             ],
             [
              0.2222222222222222,
              "#7201a8"
             ],
             [
              0.3333333333333333,
              "#9c179e"
             ],
             [
              0.4444444444444444,
              "#bd3786"
             ],
             [
              0.5555555555555556,
              "#d8576b"
             ],
             [
              0.6666666666666666,
              "#ed7953"
             ],
             [
              0.7777777777777778,
              "#fb9f3a"
             ],
             [
              0.8888888888888888,
              "#fdca26"
             ],
             [
              1,
              "#f0f921"
             ]
            ],
            "type": "heatmap"
           }
          ],
          "heatmapgl": [
           {
            "colorbar": {
             "outlinewidth": 0,
             "ticks": ""
            },
            "colorscale": [
             [
              0,
              "#0d0887"
             ],
             [
              0.1111111111111111,
              "#46039f"
             ],
             [
              0.2222222222222222,
              "#7201a8"
             ],
             [
              0.3333333333333333,
              "#9c179e"
             ],
             [
              0.4444444444444444,
              "#bd3786"
             ],
             [
              0.5555555555555556,
              "#d8576b"
             ],
             [
              0.6666666666666666,
              "#ed7953"
             ],
             [
              0.7777777777777778,
              "#fb9f3a"
             ],
             [
              0.8888888888888888,
              "#fdca26"
             ],
             [
              1,
              "#f0f921"
             ]
            ],
            "type": "heatmapgl"
           }
          ],
          "histogram": [
           {
            "marker": {
             "colorbar": {
              "outlinewidth": 0,
              "ticks": ""
             }
            },
            "type": "histogram"
           }
          ],
          "histogram2d": [
           {
            "colorbar": {
             "outlinewidth": 0,
             "ticks": ""
            },
            "colorscale": [
             [
              0,
              "#0d0887"
             ],
             [
              0.1111111111111111,
              "#46039f"
             ],
             [
              0.2222222222222222,
              "#7201a8"
             ],
             [
              0.3333333333333333,
              "#9c179e"
             ],
             [
              0.4444444444444444,
              "#bd3786"
             ],
             [
              0.5555555555555556,
              "#d8576b"
             ],
             [
              0.6666666666666666,
              "#ed7953"
             ],
             [
              0.7777777777777778,
              "#fb9f3a"
             ],
             [
              0.8888888888888888,
              "#fdca26"
             ],
             [
              1,
              "#f0f921"
             ]
            ],
            "type": "histogram2d"
           }
          ],
          "histogram2dcontour": [
           {
            "colorbar": {
             "outlinewidth": 0,
             "ticks": ""
            },
            "colorscale": [
             [
              0,
              "#0d0887"
             ],
             [
              0.1111111111111111,
              "#46039f"
             ],
             [
              0.2222222222222222,
              "#7201a8"
             ],
             [
              0.3333333333333333,
              "#9c179e"
             ],
             [
              0.4444444444444444,
              "#bd3786"
             ],
             [
              0.5555555555555556,
              "#d8576b"
             ],
             [
              0.6666666666666666,
              "#ed7953"
             ],
             [
              0.7777777777777778,
              "#fb9f3a"
             ],
             [
              0.8888888888888888,
              "#fdca26"
             ],
             [
              1,
              "#f0f921"
             ]
            ],
            "type": "histogram2dcontour"
           }
          ],
          "mesh3d": [
           {
            "colorbar": {
             "outlinewidth": 0,
             "ticks": ""
            },
            "type": "mesh3d"
           }
          ],
          "parcoords": [
           {
            "line": {
             "colorbar": {
              "outlinewidth": 0,
              "ticks": ""
             }
            },
            "type": "parcoords"
           }
          ],
          "pie": [
           {
            "automargin": true,
            "type": "pie"
           }
          ],
          "scatter": [
           {
            "marker": {
             "colorbar": {
              "outlinewidth": 0,
              "ticks": ""
             }
            },
            "type": "scatter"
           }
          ],
          "scatter3d": [
           {
            "line": {
             "colorbar": {
              "outlinewidth": 0,
              "ticks": ""
             }
            },
            "marker": {
             "colorbar": {
              "outlinewidth": 0,
              "ticks": ""
             }
            },
            "type": "scatter3d"
           }
          ],
          "scattercarpet": [
           {
            "marker": {
             "colorbar": {
              "outlinewidth": 0,
              "ticks": ""
             }
            },
            "type": "scattercarpet"
           }
          ],
          "scattergeo": [
           {
            "marker": {
             "colorbar": {
              "outlinewidth": 0,
              "ticks": ""
             }
            },
            "type": "scattergeo"
           }
          ],
          "scattergl": [
           {
            "marker": {
             "colorbar": {
              "outlinewidth": 0,
              "ticks": ""
             }
            },
            "type": "scattergl"
           }
          ],
          "scattermapbox": [
           {
            "marker": {
             "colorbar": {
              "outlinewidth": 0,
              "ticks": ""
             }
            },
            "type": "scattermapbox"
           }
          ],
          "scatterpolar": [
           {
            "marker": {
             "colorbar": {
              "outlinewidth": 0,
              "ticks": ""
             }
            },
            "type": "scatterpolar"
           }
          ],
          "scatterpolargl": [
           {
            "marker": {
             "colorbar": {
              "outlinewidth": 0,
              "ticks": ""
             }
            },
            "type": "scatterpolargl"
           }
          ],
          "scatterternary": [
           {
            "marker": {
             "colorbar": {
              "outlinewidth": 0,
              "ticks": ""
             }
            },
            "type": "scatterternary"
           }
          ],
          "surface": [
           {
            "colorbar": {
             "outlinewidth": 0,
             "ticks": ""
            },
            "colorscale": [
             [
              0,
              "#0d0887"
             ],
             [
              0.1111111111111111,
              "#46039f"
             ],
             [
              0.2222222222222222,
              "#7201a8"
             ],
             [
              0.3333333333333333,
              "#9c179e"
             ],
             [
              0.4444444444444444,
              "#bd3786"
             ],
             [
              0.5555555555555556,
              "#d8576b"
             ],
             [
              0.6666666666666666,
              "#ed7953"
             ],
             [
              0.7777777777777778,
              "#fb9f3a"
             ],
             [
              0.8888888888888888,
              "#fdca26"
             ],
             [
              1,
              "#f0f921"
             ]
            ],
            "type": "surface"
           }
          ],
          "table": [
           {
            "cells": {
             "fill": {
              "color": "#EBF0F8"
             },
             "line": {
              "color": "white"
             }
            },
            "header": {
             "fill": {
              "color": "#C8D4E3"
             },
             "line": {
              "color": "white"
             }
            },
            "type": "table"
           }
          ]
         },
         "layout": {
          "annotationdefaults": {
           "arrowcolor": "#2a3f5f",
           "arrowhead": 0,
           "arrowwidth": 1
          },
          "coloraxis": {
           "colorbar": {
            "outlinewidth": 0,
            "ticks": ""
           }
          },
          "colorscale": {
           "diverging": [
            [
             0,
             "#8e0152"
            ],
            [
             0.1,
             "#c51b7d"
            ],
            [
             0.2,
             "#de77ae"
            ],
            [
             0.3,
             "#f1b6da"
            ],
            [
             0.4,
             "#fde0ef"
            ],
            [
             0.5,
             "#f7f7f7"
            ],
            [
             0.6,
             "#e6f5d0"
            ],
            [
             0.7,
             "#b8e186"
            ],
            [
             0.8,
             "#7fbc41"
            ],
            [
             0.9,
             "#4d9221"
            ],
            [
             1,
             "#276419"
            ]
           ],
           "sequential": [
            [
             0,
             "#0d0887"
            ],
            [
             0.1111111111111111,
             "#46039f"
            ],
            [
             0.2222222222222222,
             "#7201a8"
            ],
            [
             0.3333333333333333,
             "#9c179e"
            ],
            [
             0.4444444444444444,
             "#bd3786"
            ],
            [
             0.5555555555555556,
             "#d8576b"
            ],
            [
             0.6666666666666666,
             "#ed7953"
            ],
            [
             0.7777777777777778,
             "#fb9f3a"
            ],
            [
             0.8888888888888888,
             "#fdca26"
            ],
            [
             1,
             "#f0f921"
            ]
           ],
           "sequentialminus": [
            [
             0,
             "#0d0887"
            ],
            [
             0.1111111111111111,
             "#46039f"
            ],
            [
             0.2222222222222222,
             "#7201a8"
            ],
            [
             0.3333333333333333,
             "#9c179e"
            ],
            [
             0.4444444444444444,
             "#bd3786"
            ],
            [
             0.5555555555555556,
             "#d8576b"
            ],
            [
             0.6666666666666666,
             "#ed7953"
            ],
            [
             0.7777777777777778,
             "#fb9f3a"
            ],
            [
             0.8888888888888888,
             "#fdca26"
            ],
            [
             1,
             "#f0f921"
            ]
           ]
          },
          "colorway": [
           "#636efa",
           "#EF553B",
           "#00cc96",
           "#ab63fa",
           "#FFA15A",
           "#19d3f3",
           "#FF6692",
           "#B6E880",
           "#FF97FF",
           "#FECB52"
          ],
          "font": {
           "color": "#2a3f5f"
          },
          "geo": {
           "bgcolor": "white",
           "lakecolor": "white",
           "landcolor": "#E5ECF6",
           "showlakes": true,
           "showland": true,
           "subunitcolor": "white"
          },
          "hoverlabel": {
           "align": "left"
          },
          "hovermode": "closest",
          "mapbox": {
           "style": "light"
          },
          "paper_bgcolor": "white",
          "plot_bgcolor": "#E5ECF6",
          "polar": {
           "angularaxis": {
            "gridcolor": "white",
            "linecolor": "white",
            "ticks": ""
           },
           "bgcolor": "#E5ECF6",
           "radialaxis": {
            "gridcolor": "white",
            "linecolor": "white",
            "ticks": ""
           }
          },
          "scene": {
           "xaxis": {
            "backgroundcolor": "#E5ECF6",
            "gridcolor": "white",
            "gridwidth": 2,
            "linecolor": "white",
            "showbackground": true,
            "ticks": "",
            "zerolinecolor": "white"
           },
           "yaxis": {
            "backgroundcolor": "#E5ECF6",
            "gridcolor": "white",
            "gridwidth": 2,
            "linecolor": "white",
            "showbackground": true,
            "ticks": "",
            "zerolinecolor": "white"
           },
           "zaxis": {
            "backgroundcolor": "#E5ECF6",
            "gridcolor": "white",
            "gridwidth": 2,
            "linecolor": "white",
            "showbackground": true,
            "ticks": "",
            "zerolinecolor": "white"
           }
          },
          "shapedefaults": {
           "line": {
            "color": "#2a3f5f"
           }
          },
          "ternary": {
           "aaxis": {
            "gridcolor": "white",
            "linecolor": "white",
            "ticks": ""
           },
           "baxis": {
            "gridcolor": "white",
            "linecolor": "white",
            "ticks": ""
           },
           "bgcolor": "#E5ECF6",
           "caxis": {
            "gridcolor": "white",
            "linecolor": "white",
            "ticks": ""
           }
          },
          "title": {
           "x": 0.05
          },
          "xaxis": {
           "automargin": true,
           "gridcolor": "white",
           "linecolor": "white",
           "ticks": "",
           "title": {
            "standoff": 15
           },
           "zerolinecolor": "white",
           "zerolinewidth": 2
          },
          "yaxis": {
           "automargin": true,
           "gridcolor": "white",
           "linecolor": "white",
           "ticks": "",
           "title": {
            "standoff": 15
           },
           "zerolinecolor": "white",
           "zerolinewidth": 2
          }
         }
        }
       }
      }
     },
     "metadata": {}
    }
   ],
   "source": [
    "import plotly.graph_objects as go\n",
    "# px.sunburst(df, path=['project', 'task'], values='task time duration')\n",
    "fig = go.Figure()\n",
    "fig.add_trace(\n",
    "    go.Sunburst(\n",
    "        values = values,\n",
    "        parents = parents,\n",
    "        labels = labels,\n",
    "        branchvalues = 'total', \n",
    "        # maxdepth = 2,\n",
    "        textinfo = \"none\"\n",
    "    )\n",
    ")\n",
    "fig.show()"
   ]
  },
  {
   "cell_type": "code",
   "execution_count": 14,
   "metadata": {},
   "outputs": [
    {
     "output_type": "execute_result",
     "data": {
      "text/plain": "        project name  project time duration project color\n0  Books and Courses              269730117       #d92b2b\n1             chores               12483000       #525266\n2       College Work              162017000       #525266\n3  Googling/Browsing               10759000       #06a893\n4             Kaggle              194288000       #e36a00",
      "text/html": "<div>\n<style scoped>\n    .dataframe tbody tr th:only-of-type {\n        vertical-align: middle;\n    }\n\n    .dataframe tbody tr th {\n        vertical-align: top;\n    }\n\n    .dataframe thead th {\n        text-align: right;\n    }\n</style>\n<table border=\"1\" class=\"dataframe\">\n  <thead>\n    <tr style=\"text-align: right;\">\n      <th></th>\n      <th>project name</th>\n      <th>project time duration</th>\n      <th>project color</th>\n    </tr>\n  </thead>\n  <tbody>\n    <tr>\n      <th>0</th>\n      <td>Books and Courses</td>\n      <td>269730117</td>\n      <td>#d92b2b</td>\n    </tr>\n    <tr>\n      <th>1</th>\n      <td>chores</td>\n      <td>12483000</td>\n      <td>#525266</td>\n    </tr>\n    <tr>\n      <th>2</th>\n      <td>College Work</td>\n      <td>162017000</td>\n      <td>#525266</td>\n    </tr>\n    <tr>\n      <th>3</th>\n      <td>Googling/Browsing</td>\n      <td>10759000</td>\n      <td>#06a893</td>\n    </tr>\n    <tr>\n      <th>4</th>\n      <td>Kaggle</td>\n      <td>194288000</td>\n      <td>#e36a00</td>\n    </tr>\n  </tbody>\n</table>\n</div>"
     },
     "metadata": {},
     "execution_count": 14
    }
   ],
   "source": [
    "df_projects = pd.DataFrame.from_dict(df_projects)\n",
    "df_projects.head()"
   ]
  },
  {
   "cell_type": "code",
   "execution_count": 16,
   "metadata": {},
   "outputs": [
    {
     "output_type": "execute_result",
     "data": {
      "text/plain": "                  task  task time duration            project\n0         DLP Course 1              694000  Books and Courses\n1  DLS Course 2 Week 2            12879000  Books and Courses\n2  DLS Course 2 Week 3            18050000  Books and Courses\n3  DLS Course 4 Week 1            11495000  Books and Courses\n4  DLS Course 4 Week 2            17518117  Books and Courses",
      "text/html": "<div>\n<style scoped>\n    .dataframe tbody tr th:only-of-type {\n        vertical-align: middle;\n    }\n\n    .dataframe tbody tr th {\n        vertical-align: top;\n    }\n\n    .dataframe thead th {\n        text-align: right;\n    }\n</style>\n<table border=\"1\" class=\"dataframe\">\n  <thead>\n    <tr style=\"text-align: right;\">\n      <th></th>\n      <th>task</th>\n      <th>task time duration</th>\n      <th>project</th>\n    </tr>\n  </thead>\n  <tbody>\n    <tr>\n      <th>0</th>\n      <td>DLP Course 1</td>\n      <td>694000</td>\n      <td>Books and Courses</td>\n    </tr>\n    <tr>\n      <th>1</th>\n      <td>DLS Course 2 Week 2</td>\n      <td>12879000</td>\n      <td>Books and Courses</td>\n    </tr>\n    <tr>\n      <th>2</th>\n      <td>DLS Course 2 Week 3</td>\n      <td>18050000</td>\n      <td>Books and Courses</td>\n    </tr>\n    <tr>\n      <th>3</th>\n      <td>DLS Course 4 Week 1</td>\n      <td>11495000</td>\n      <td>Books and Courses</td>\n    </tr>\n    <tr>\n      <th>4</th>\n      <td>DLS Course 4 Week 2</td>\n      <td>17518117</td>\n      <td>Books and Courses</td>\n    </tr>\n  </tbody>\n</table>\n</div>"
     },
     "metadata": {},
     "execution_count": 16
    }
   ],
   "source": [
    "df_tasks = pd.DataFrame.from_dict(df_tasks)\n",
    "df_tasks.head()"
   ]
  },
  {
   "cell_type": "code",
   "execution_count": null,
   "metadata": {},
   "outputs": [],
   "source": []
  }
 ]
}